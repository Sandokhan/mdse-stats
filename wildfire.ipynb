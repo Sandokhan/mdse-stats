{
 "cells": [
  {
   "cell_type": "code",
   "execution_count": 1,
   "metadata": {},
   "outputs": [],
   "source": [
    "#Import Libraries\n",
    "\n",
    "# data manipulation\n",
    "import pandas as pd\n",
    "import numpy as np\n",
    "from datetime import timezone, timedelta, time, datetime\n",
    "\n",
    "\n",
    "# data viz\n",
    "import matplotlib.pyplot as plt\n",
    "from matplotlib import rcParams\n",
    "import seaborn as sns\n",
    "\n",
    "# apply some cool styling\n",
    "plt.style.use(\"fivethirtyeight\")\n",
    "rcParams['figure.figsize'] = (12,  6)"
   ]
  },
  {
   "cell_type": "markdown",
   "metadata": {},
   "source": [
    "# Portugal\n",
    "\n",
    "The map below is an easy way to understand the division of Continental Portugal.\n",
    "\n",
    "![Portugal Continental Map](img/portugal-continental.png \"Portugal Continental Map\")\n",
    "\n",
    "\n",
    "* Porto and North\n",
    "* Center\n",
    "* Alentejo\n",
    "* Lisbon and Tejo Valley\n",
    "* Algarve\n"
   ]
  },
  {
   "cell_type": "code",
   "execution_count": 2,
   "metadata": {},
   "outputs": [],
   "source": [
    "# Districts\n",
    "Northen  = ['Viana Do Castelo', 'Porto', 'Braga', 'Vila Real', 'Bragança']\n",
    "Center   = ['Castelo Branco', 'Viseu', 'Guarda', 'Aveiro', 'Coimbra', 'Leiria']\n",
    "Algarve  = ['Faro']\n",
    "Alentejo = ['Évora', 'Beja', 'Portalegre', 'Santarém']\n",
    "Lisbon   = ['Lisboa', 'Setúbal']"
   ]
  },
  {
   "cell_type": "code",
   "execution_count": 3,
   "metadata": {},
   "outputs": [
    {
     "data": {
      "text/plain": "    Ano Codigo SGIF    Codigo_ANPC          Tipo          Distrito  \\\n0  2015    DM315252  2015160007544     Florestal  Viana do Castelo   \n1  2015    DM215305  2015130043758     Florestal             Porto   \n2  2015    DM415293  2015030021973     Florestal             Braga   \n3  2015    DM315261  2015160007563  Falso Alarme  Viana do Castelo   \n4  2015    BL115321  2015180015874      Agrícola             Viseu   \n\n             Concelho           Freguesia                            Local  \\\n0       Ponte de Lima           Serdedelo      VALE DE TROVELA (SERDEDELO)   \n1  Marco de Canaveses  Vila Boa de Quires                    LUGAR DO FOFO   \n2          Vila Verde                Lage            RUA PROF ABEL MADEIRA   \n3       Ponte de Lima            Boalhosa  J. DEPOSITOS DE AGUA (BOALHOSA)   \n4        Castro Daire        Castro Daire      Farejinhas - Bº das Queirós   \n\n      INE       x  ...  Falso Alarme Fogacho Incendio Agricola Perimetro  APS  \\\n0  160746  167814  ...             0       0        1        0       NaN  NaN   \n1  130731  193731  ...             0       0        1        0       NaN  NaN   \n2   31323  172162  ...             0       1        0        0       NaN  NaN   \n3  160709  171291  ...             1       0        0        0       NaN  NaN   \n4  180304  217299  ...             0       1        0        0       NaN  NaN   \n\n   Causa     TipoCausa          Região PROF          UGF  \n0  122.0    Negligente  Entre Douro e Minho   Alto Minho  \n1  122.0    Negligente  Entre Douro e Minho       Tâmega  \n2   60.0  Desconhecida  Entre Douro e Minho  Baixo Minho  \n3  630.0  Desconhecida  Entre Douro e Minho   Alto Minho  \n4  630.0  Desconhecida        Beira Litoral   Dão Lafões  \n\n[5 rows x 38 columns]",
      "text/html": "<div>\n<style scoped>\n    .dataframe tbody tr th:only-of-type {\n        vertical-align: middle;\n    }\n\n    .dataframe tbody tr th {\n        vertical-align: top;\n    }\n\n    .dataframe thead th {\n        text-align: right;\n    }\n</style>\n<table border=\"1\" class=\"dataframe\">\n  <thead>\n    <tr style=\"text-align: right;\">\n      <th></th>\n      <th>Ano</th>\n      <th>Codigo SGIF</th>\n      <th>Codigo_ANPC</th>\n      <th>Tipo</th>\n      <th>Distrito</th>\n      <th>Concelho</th>\n      <th>Freguesia</th>\n      <th>Local</th>\n      <th>INE</th>\n      <th>x</th>\n      <th>...</th>\n      <th>Falso Alarme</th>\n      <th>Fogacho</th>\n      <th>Incendio</th>\n      <th>Agricola</th>\n      <th>Perimetro</th>\n      <th>APS</th>\n      <th>Causa</th>\n      <th>TipoCausa</th>\n      <th>Região PROF</th>\n      <th>UGF</th>\n    </tr>\n  </thead>\n  <tbody>\n    <tr>\n      <th>0</th>\n      <td>2015</td>\n      <td>DM315252</td>\n      <td>2015160007544</td>\n      <td>Florestal</td>\n      <td>Viana do Castelo</td>\n      <td>Ponte de Lima</td>\n      <td>Serdedelo</td>\n      <td>VALE DE TROVELA (SERDEDELO)</td>\n      <td>160746</td>\n      <td>167814</td>\n      <td>...</td>\n      <td>0</td>\n      <td>0</td>\n      <td>1</td>\n      <td>0</td>\n      <td>NaN</td>\n      <td>NaN</td>\n      <td>122.0</td>\n      <td>Negligente</td>\n      <td>Entre Douro e Minho</td>\n      <td>Alto Minho</td>\n    </tr>\n    <tr>\n      <th>1</th>\n      <td>2015</td>\n      <td>DM215305</td>\n      <td>2015130043758</td>\n      <td>Florestal</td>\n      <td>Porto</td>\n      <td>Marco de Canaveses</td>\n      <td>Vila Boa de Quires</td>\n      <td>LUGAR DO FOFO</td>\n      <td>130731</td>\n      <td>193731</td>\n      <td>...</td>\n      <td>0</td>\n      <td>0</td>\n      <td>1</td>\n      <td>0</td>\n      <td>NaN</td>\n      <td>NaN</td>\n      <td>122.0</td>\n      <td>Negligente</td>\n      <td>Entre Douro e Minho</td>\n      <td>Tâmega</td>\n    </tr>\n    <tr>\n      <th>2</th>\n      <td>2015</td>\n      <td>DM415293</td>\n      <td>2015030021973</td>\n      <td>Florestal</td>\n      <td>Braga</td>\n      <td>Vila Verde</td>\n      <td>Lage</td>\n      <td>RUA PROF ABEL MADEIRA</td>\n      <td>31323</td>\n      <td>172162</td>\n      <td>...</td>\n      <td>0</td>\n      <td>1</td>\n      <td>0</td>\n      <td>0</td>\n      <td>NaN</td>\n      <td>NaN</td>\n      <td>60.0</td>\n      <td>Desconhecida</td>\n      <td>Entre Douro e Minho</td>\n      <td>Baixo Minho</td>\n    </tr>\n    <tr>\n      <th>3</th>\n      <td>2015</td>\n      <td>DM315261</td>\n      <td>2015160007563</td>\n      <td>Falso Alarme</td>\n      <td>Viana do Castelo</td>\n      <td>Ponte de Lima</td>\n      <td>Boalhosa</td>\n      <td>J. DEPOSITOS DE AGUA (BOALHOSA)</td>\n      <td>160709</td>\n      <td>171291</td>\n      <td>...</td>\n      <td>1</td>\n      <td>0</td>\n      <td>0</td>\n      <td>0</td>\n      <td>NaN</td>\n      <td>NaN</td>\n      <td>630.0</td>\n      <td>Desconhecida</td>\n      <td>Entre Douro e Minho</td>\n      <td>Alto Minho</td>\n    </tr>\n    <tr>\n      <th>4</th>\n      <td>2015</td>\n      <td>BL115321</td>\n      <td>2015180015874</td>\n      <td>Agrícola</td>\n      <td>Viseu</td>\n      <td>Castro Daire</td>\n      <td>Castro Daire</td>\n      <td>Farejinhas - Bº das Queirós</td>\n      <td>180304</td>\n      <td>217299</td>\n      <td>...</td>\n      <td>0</td>\n      <td>1</td>\n      <td>0</td>\n      <td>0</td>\n      <td>NaN</td>\n      <td>NaN</td>\n      <td>630.0</td>\n      <td>Desconhecida</td>\n      <td>Beira Litoral</td>\n      <td>Dão Lafões</td>\n    </tr>\n  </tbody>\n</table>\n<p>5 rows × 38 columns</p>\n</div>"
     },
     "execution_count": 3,
     "metadata": {},
     "output_type": "execute_result"
    }
   ],
   "source": [
    "# Load and Read dataset\n",
    "df = pd.read_excel('datasets/wildfire.xlsx')\n",
    "\n",
    "#Checking dataset head\n",
    "df.head()"
   ]
  },
  {
   "cell_type": "code",
   "execution_count": null,
   "metadata": {},
   "outputs": [],
   "source": [
    "#Checking dataset tail\n",
    "df.tail()"
   ]
  },
  {
   "cell_type": "code",
   "execution_count": null,
   "metadata": {},
   "outputs": [],
   "source": [
    "# Inspecting dataset colunms name\n",
    "df.columns"
   ]
  },
  {
   "cell_type": "code",
   "execution_count": null,
   "metadata": {},
   "outputs": [],
   "source": [
    "# Inspecting data type and dataset\n",
    "df.info()"
   ]
  },
  {
   "cell_type": "code",
   "execution_count": null,
   "metadata": {},
   "outputs": [],
   "source": [
    "print(\"Districts: \", df.Distrito.unique())\n",
    "print(\"Number of Districts: \", df.Distrito.nunique())"
   ]
  },
  {
   "cell_type": "code",
   "execution_count": null,
   "metadata": {},
   "outputs": [],
   "source": [
    "# Fixing district typo\n",
    "df['Distrito'] = df.Distrito.str.title()\n",
    "print(\"Districts: \", df.Distrito.unique())\n",
    "print(\"Number of Districts: \", df.Distrito.nunique())"
   ]
  },
  {
   "cell_type": "code",
   "execution_count": null,
   "metadata": {},
   "outputs": [],
   "source": [
    "df_stg = df.query(\"Distrito in @Northen\")\n",
    "df_stg.reset_index(inplace=True)\n",
    "df_stg.head()"
   ]
  },
  {
   "cell_type": "code",
   "execution_count": null,
   "metadata": {},
   "outputs": [],
   "source": [
    "# Inspecting stg shape\n",
    "print(\"North shape: \", df_stg.shape)"
   ]
  },
  {
   "cell_type": "code",
   "execution_count": null,
   "metadata": {},
   "outputs": [],
   "source": [
    "# Slicing Dataset\n",
    "columns = ['Distrito','Tipo', 'TipoCausa', 'DataAlerta','DataExtincao','HoraAlerta','HoraExtincao','AA_Total (pov+mato+agric) (ha)']\n",
    "names =  ['District','Type', 'TypeCause', 'DateAlert', 'DateExtinction', 'HourAlert', 'HourExtinction', 'AreaTotal']\n",
    "north = df_stg[columns].copy(deep=True)\n",
    "north.columns = names\n",
    "north.head()"
   ]
  },
  {
   "cell_type": "code",
   "execution_count": null,
   "metadata": {},
   "outputs": [],
   "source": [
    "# Converting to datetime\n",
    "north[['DateAlert', 'DateExtinction']] = north[['DateAlert', 'DateExtinction']].apply(pd.to_datetime, errors='coerce')\n",
    "north[['HourAlert', 'HourExtinction']] = north[['HourAlert', 'HourExtinction']].apply(pd.to_datetime, format='%H:%M:%S')\n",
    "\n",
    "# Calculating time of fire and getting day of week\n",
    "north['FireAmountTime'] = north.HourExtinction - north.HourAlert\n",
    "north['DayAlert'] = north.DateAlert.dt.day_name()\n",
    "north['DayExtinction'] = north.DateExtinction.dt.day_name()\n"
   ]
  },
  {
   "cell_type": "code",
   "execution_count": null,
   "metadata": {},
   "outputs": [],
   "source": [
    "#Basic information\n",
    "north.info()"
   ]
  },
  {
   "cell_type": "code",
   "execution_count": null,
   "metadata": {},
   "outputs": [],
   "source": [
    "#Describe the data\n",
    "north.describe()"
   ]
  },
  {
   "cell_type": "code",
   "execution_count": null,
   "metadata": {},
   "outputs": [],
   "source": [
    "#Checking date alert greater than extiction date\n",
    "north[north.DateAlert > north.DateExtinction]"
   ]
  },
  {
   "cell_type": "code",
   "execution_count": null,
   "metadata": {},
   "outputs": [],
   "source": [
    "#Find the duplicates\n",
    "print('Number of duplicated row: ', north.duplicated().sum())\n",
    "north[north.duplicated(keep=False) == True]"
   ]
  },
  {
   "cell_type": "code",
   "execution_count": null,
   "metadata": {},
   "outputs": [],
   "source": [
    "#Plot the unique values\n",
    "\n",
    "sns.countplot(data=north, x='District');\n",
    "plt.title(\"Number of wildfires Northern Districts\")\n",
    "plt.xticks(rotation=0)\n",
    "plt.show()"
   ]
  },
  {
   "cell_type": "code",
   "execution_count": null,
   "metadata": {},
   "outputs": [],
   "source": [
    "#Wildfire by day od the week\n",
    "\n",
    "sns.countplot(data=north, x='DayAlert');\n",
    "plt.title(\"Number of wildfires Northern Districts by Day of Week\")\n",
    "plt.xticks(rotation=0)\n",
    "plt.show()"
   ]
  },
  {
   "cell_type": "code",
   "execution_count": null,
   "metadata": {},
   "outputs": [],
   "source": []
  }
 ],
 "metadata": {
  "kernelspec": {
   "display_name": "Python 3.9.7 ('base')",
   "language": "python",
   "name": "python3"
  },
  "language_info": {
   "codemirror_mode": {
    "name": "ipython",
    "version": 3
   },
   "file_extension": ".py",
   "mimetype": "text/x-python",
   "name": "python",
   "nbconvert_exporter": "python",
   "pygments_lexer": "ipython3",
   "version": "3.9.7"
  },
  "orig_nbformat": 4,
  "vscode": {
   "interpreter": {
    "hash": "3cdc2136a0c3ff6ee581d9355ebf305035e9e0ffdb59b37da8e4674310bf0233"
   }
  }
 },
 "nbformat": 4,
 "nbformat_minor": 2
}
