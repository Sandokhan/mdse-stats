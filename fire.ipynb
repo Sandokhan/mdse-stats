{
 "cells": [
  {
   "cell_type": "code",
   "execution_count": 133,
   "metadata": {},
   "outputs": [],
   "source": [
    "# data manipulation\n",
    "import pandas as pd\n",
    "import numpy as np\n",
    "from datetime import timezone, timedelta, time, datetime\n",
    "from math import sqrt\n",
    "\n",
    "# stats liibs\n",
    "import scipy.stats as stats\n",
    "import pingouin as pg\n",
    "\n",
    "# data viz\n",
    "import matplotlib.pyplot as plt\n",
    "from matplotlib import rcParams\n",
    "import seaborn as sns\n",
    "\n",
    "# apply some cool styling\n",
    "plt.style.use(\"seaborn-darkgrid\")\n",
    "rcParams['figure.figsize'] = (12,  6)\n",
    "sns.set(font_scale=1.5)\n",
    "\n",
    "# make reproducible\n",
    "np.random.seed(42)\n",
    "\n",
    "# Creating Categorical Ordered\n",
    "from pandas.api.types import CategoricalDtype\n",
    "month_type = CategoricalDtype(categories=['Jan', 'Feb','Mar', 'Apr','May', 'Jun', 'Jul', 'Aug', 'Sep','Oct', 'Nov', 'Dec'], ordered=True)\n",
    "day_type = CategoricalDtype(categories=['Monday','Tuesday', 'Wednesday', 'Thursday', 'Friday', 'Saturday', 'Sunday'], ordered=True)\n",
    "\n",
    "# dataset\n",
    "wildfire = 'https://bit.ly/3fVhoGZ'\n",
    "\n",
    "# Portugal Districts\n",
    "# Center   = ['Castelo Branco', 'Viseu', 'Guarda', 'Aveiro', 'Coimbra', 'Leiria']\n",
    "# Algarve  = ['Faro']\n",
    "# Alentejo = ['Évora', 'Beja', 'Portalegre', 'Santarém']\n",
    "# Lisbon   = ['Lisboa', 'Setúbal']\n",
    "# Northen  = ['Viana Do Castelo', 'Porto', 'Braga', 'Vila Real', 'Bragança']\n",
    "\n",
    "North    = ['Porto', 'Vila Real']"
   ]
  },
  {
   "cell_type": "markdown",
   "metadata": {},
   "source": [
    "# Six-Step Statistical Investigation Method\n",
    "\n",
    "* Define|Ask a Research Question\n",
    "* Design a study and collect Data (Step will be skipped)\n",
    "* Explore the Data\n",
    "* Draw inferences\n",
    "* Formulate Conclusions\n",
    "* Look back & ahead\n",
    "\n",
    "## 1. Define|Ask a Research Question\n",
    "\n",
    "### Do the Porto and Vila Real Districts have the same characteristics regarding Fire Typology, Fire Causes, Temporal Incidence (Weekday and Month), Fire Duration and Burnt Area?\n",
    "\n",
    "### Variables to be used: \n",
    "\n",
    "    * Qualitative Variables (Categorical data): \n",
    "        - Tipo: wildfire type: “Florestal, Agrícola, Falso Alarme, Queimada” \n",
    "        - Distrito: Administrative areas \n",
    "        - TipoCausa: Source – “Intencional, Natural, Negligente, Desconhecida, Reacendimento, NULL” \n",
    "\n",
    "    * Quantitative Variables (Numerical data) \n",
    "        - DataAlerta: Communication date \n",
    "        - HoraAlerta: Communication hour \n",
    "        - DataExtinção: Extinction date \n",
    "        - HoraExtinção: Extinction hour \n",
    "        - AA_Total (pov+mato+agric) (ha): Total burned area \n",
    "\n"
   ]
  },
  {
   "cell_type": "markdown",
   "metadata": {},
   "source": [
    "## 2. Explore the Data (Data Cleaning & Filtering)\n",
    "\n",
    "  - Remove duplicate rows\n",
    "  - Remove rows where type of wildfire is \"Falso Alarme\"\n",
    "  - Remove rows where date of Alert is greater that date of Extinction"
   ]
  },
  {
   "cell_type": "code",
   "execution_count": 44,
   "metadata": {},
   "outputs": [
    {
     "data": {
      "text/html": [
       "<div>\n",
       "<style scoped>\n",
       "    .dataframe tbody tr th:only-of-type {\n",
       "        vertical-align: middle;\n",
       "    }\n",
       "\n",
       "    .dataframe tbody tr th {\n",
       "        vertical-align: top;\n",
       "    }\n",
       "\n",
       "    .dataframe thead th {\n",
       "        text-align: right;\n",
       "    }\n",
       "</style>\n",
       "<table border=\"1\" class=\"dataframe\">\n",
       "  <thead>\n",
       "    <tr style=\"text-align: right;\">\n",
       "      <th></th>\n",
       "      <th>Ano</th>\n",
       "      <th>Codigo SGIF</th>\n",
       "      <th>Codigo_ANPC</th>\n",
       "      <th>Tipo</th>\n",
       "      <th>Distrito</th>\n",
       "      <th>Concelho</th>\n",
       "      <th>Freguesia</th>\n",
       "      <th>Local</th>\n",
       "      <th>INE</th>\n",
       "      <th>x</th>\n",
       "      <th>...</th>\n",
       "      <th>Falso Alarme</th>\n",
       "      <th>Fogacho</th>\n",
       "      <th>Incendio</th>\n",
       "      <th>Agricola</th>\n",
       "      <th>Perimetro</th>\n",
       "      <th>APS</th>\n",
       "      <th>Causa</th>\n",
       "      <th>TipoCausa</th>\n",
       "      <th>Região PROF</th>\n",
       "      <th>UGF</th>\n",
       "    </tr>\n",
       "  </thead>\n",
       "  <tbody>\n",
       "    <tr>\n",
       "      <th>0</th>\n",
       "      <td>2015</td>\n",
       "      <td>DM315252</td>\n",
       "      <td>2015160007544</td>\n",
       "      <td>Florestal</td>\n",
       "      <td>Viana do Castelo</td>\n",
       "      <td>Ponte de Lima</td>\n",
       "      <td>Serdedelo</td>\n",
       "      <td>VALE DE TROVELA (SERDEDELO)</td>\n",
       "      <td>160746</td>\n",
       "      <td>167814</td>\n",
       "      <td>...</td>\n",
       "      <td>0</td>\n",
       "      <td>0</td>\n",
       "      <td>1</td>\n",
       "      <td>0</td>\n",
       "      <td>NaN</td>\n",
       "      <td>NaN</td>\n",
       "      <td>122.0</td>\n",
       "      <td>Negligente</td>\n",
       "      <td>Entre Douro e Minho</td>\n",
       "      <td>Alto Minho</td>\n",
       "    </tr>\n",
       "    <tr>\n",
       "      <th>1</th>\n",
       "      <td>2015</td>\n",
       "      <td>DM215305</td>\n",
       "      <td>2015130043758</td>\n",
       "      <td>Florestal</td>\n",
       "      <td>Porto</td>\n",
       "      <td>Marco de Canaveses</td>\n",
       "      <td>Vila Boa de Quires</td>\n",
       "      <td>LUGAR DO FOFO</td>\n",
       "      <td>130731</td>\n",
       "      <td>193731</td>\n",
       "      <td>...</td>\n",
       "      <td>0</td>\n",
       "      <td>0</td>\n",
       "      <td>1</td>\n",
       "      <td>0</td>\n",
       "      <td>NaN</td>\n",
       "      <td>NaN</td>\n",
       "      <td>122.0</td>\n",
       "      <td>Negligente</td>\n",
       "      <td>Entre Douro e Minho</td>\n",
       "      <td>Tâmega</td>\n",
       "    </tr>\n",
       "    <tr>\n",
       "      <th>2</th>\n",
       "      <td>2015</td>\n",
       "      <td>DM415293</td>\n",
       "      <td>2015030021973</td>\n",
       "      <td>Florestal</td>\n",
       "      <td>Braga</td>\n",
       "      <td>Vila Verde</td>\n",
       "      <td>Lage</td>\n",
       "      <td>RUA PROF ABEL MADEIRA</td>\n",
       "      <td>31323</td>\n",
       "      <td>172162</td>\n",
       "      <td>...</td>\n",
       "      <td>0</td>\n",
       "      <td>1</td>\n",
       "      <td>0</td>\n",
       "      <td>0</td>\n",
       "      <td>NaN</td>\n",
       "      <td>NaN</td>\n",
       "      <td>60.0</td>\n",
       "      <td>Desconhecida</td>\n",
       "      <td>Entre Douro e Minho</td>\n",
       "      <td>Baixo Minho</td>\n",
       "    </tr>\n",
       "    <tr>\n",
       "      <th>3</th>\n",
       "      <td>2015</td>\n",
       "      <td>DM315261</td>\n",
       "      <td>2015160007563</td>\n",
       "      <td>Falso Alarme</td>\n",
       "      <td>Viana do Castelo</td>\n",
       "      <td>Ponte de Lima</td>\n",
       "      <td>Boalhosa</td>\n",
       "      <td>J. DEPOSITOS DE AGUA (BOALHOSA)</td>\n",
       "      <td>160709</td>\n",
       "      <td>171291</td>\n",
       "      <td>...</td>\n",
       "      <td>1</td>\n",
       "      <td>0</td>\n",
       "      <td>0</td>\n",
       "      <td>0</td>\n",
       "      <td>NaN</td>\n",
       "      <td>NaN</td>\n",
       "      <td>630.0</td>\n",
       "      <td>Desconhecida</td>\n",
       "      <td>Entre Douro e Minho</td>\n",
       "      <td>Alto Minho</td>\n",
       "    </tr>\n",
       "    <tr>\n",
       "      <th>4</th>\n",
       "      <td>2015</td>\n",
       "      <td>BL115321</td>\n",
       "      <td>2015180015874</td>\n",
       "      <td>Agrícola</td>\n",
       "      <td>Viseu</td>\n",
       "      <td>Castro Daire</td>\n",
       "      <td>Castro Daire</td>\n",
       "      <td>Farejinhas - Bº das Queirós</td>\n",
       "      <td>180304</td>\n",
       "      <td>217299</td>\n",
       "      <td>...</td>\n",
       "      <td>0</td>\n",
       "      <td>1</td>\n",
       "      <td>0</td>\n",
       "      <td>0</td>\n",
       "      <td>NaN</td>\n",
       "      <td>NaN</td>\n",
       "      <td>630.0</td>\n",
       "      <td>Desconhecida</td>\n",
       "      <td>Beira Litoral</td>\n",
       "      <td>Dão Lafões</td>\n",
       "    </tr>\n",
       "  </tbody>\n",
       "</table>\n",
       "<p>5 rows × 38 columns</p>\n",
       "</div>"
      ],
      "text/plain": [
       "    Ano Codigo SGIF    Codigo_ANPC          Tipo          Distrito  \\\n",
       "0  2015    DM315252  2015160007544     Florestal  Viana do Castelo   \n",
       "1  2015    DM215305  2015130043758     Florestal             Porto   \n",
       "2  2015    DM415293  2015030021973     Florestal             Braga   \n",
       "3  2015    DM315261  2015160007563  Falso Alarme  Viana do Castelo   \n",
       "4  2015    BL115321  2015180015874      Agrícola             Viseu   \n",
       "\n",
       "             Concelho           Freguesia                            Local  \\\n",
       "0       Ponte de Lima           Serdedelo      VALE DE TROVELA (SERDEDELO)   \n",
       "1  Marco de Canaveses  Vila Boa de Quires                    LUGAR DO FOFO   \n",
       "2          Vila Verde                Lage            RUA PROF ABEL MADEIRA   \n",
       "3       Ponte de Lima            Boalhosa  J. DEPOSITOS DE AGUA (BOALHOSA)   \n",
       "4        Castro Daire        Castro Daire      Farejinhas - Bº das Queirós   \n",
       "\n",
       "      INE       x  ...  Falso Alarme Fogacho Incendio Agricola Perimetro  APS  \\\n",
       "0  160746  167814  ...             0       0        1        0       NaN  NaN   \n",
       "1  130731  193731  ...             0       0        1        0       NaN  NaN   \n",
       "2   31323  172162  ...             0       1        0        0       NaN  NaN   \n",
       "3  160709  171291  ...             1       0        0        0       NaN  NaN   \n",
       "4  180304  217299  ...             0       1        0        0       NaN  NaN   \n",
       "\n",
       "   Causa     TipoCausa          Região PROF          UGF  \n",
       "0  122.0    Negligente  Entre Douro e Minho   Alto Minho  \n",
       "1  122.0    Negligente  Entre Douro e Minho       Tâmega  \n",
       "2   60.0  Desconhecida  Entre Douro e Minho  Baixo Minho  \n",
       "3  630.0  Desconhecida  Entre Douro e Minho   Alto Minho  \n",
       "4  630.0  Desconhecida        Beira Litoral   Dão Lafões  \n",
       "\n",
       "[5 rows x 38 columns]"
      ]
     },
     "execution_count": 44,
     "metadata": {},
     "output_type": "execute_result"
    }
   ],
   "source": [
    "# Load dataset\n",
    "df = pd.read_csv(wildfire, sep=';')\n",
    "df.head()"
   ]
  },
  {
   "cell_type": "code",
   "execution_count": 45,
   "metadata": {},
   "outputs": [
    {
     "data": {
      "text/plain": [
       "Index(['Ano', 'Codigo SGIF', 'Codigo_ANPC', 'Tipo', 'Distrito', 'Concelho',\n",
       "       'Freguesia', 'Local', 'INE', 'x', 'y', 'lat', 'lon', 'DataAlerta',\n",
       "       'HoraAlerta', 'DataExtincao', 'HoraExtincao', 'Data1Intervencao',\n",
       "       'Hora1Intervencao', 'FonteAlerta', 'NUT', 'AA_Povoamento (ha)',\n",
       "       'AA_Mato (ha)', 'AA_Agricola (ha)',\n",
       "       'AA_EspacosFlorestais (pov+mato)(ha)', 'AA_Total (pov+mato+agric) (ha)',\n",
       "       'Reacendimentos', 'Queimada', 'Falso Alarme', 'Fogacho', 'Incendio',\n",
       "       'Agricola', 'Perimetro', 'APS', 'Causa', 'TipoCausa', 'Região PROF',\n",
       "       'UGF'],\n",
       "      dtype='object')"
      ]
     },
     "execution_count": 45,
     "metadata": {},
     "output_type": "execute_result"
    }
   ],
   "source": [
    "# Inspecting dataset colunms name\n",
    "df.columns"
   ]
  },
  {
   "cell_type": "code",
   "execution_count": 46,
   "metadata": {},
   "outputs": [
    {
     "name": "stdout",
     "output_type": "stream",
     "text": [
      "The dataset has 23175 rows and 38 columns. \n"
     ]
    }
   ],
   "source": [
    "# Inspecting dataset shape\n",
    "print(f'The dataset has {df.shape[0]} rows and {df.shape[1]} columns. ')"
   ]
  },
  {
   "cell_type": "code",
   "execution_count": 54,
   "metadata": {},
   "outputs": [
    {
     "name": "stdout",
     "output_type": "stream",
     "text": [
      "Number of Duplicated Rows: 0\n"
     ]
    }
   ],
   "source": [
    "# Inspect duplicate rows\n",
    "print(f'Number of Duplicated Rows: {df.duplicated().sum()}')"
   ]
  },
  {
   "cell_type": "code",
   "execution_count": 55,
   "metadata": {},
   "outputs": [
    {
     "data": {
      "text/plain": [
       "Local                   1\n",
       "DataExtincao          312\n",
       "HoraExtincao          317\n",
       "Data1Intervencao     1199\n",
       "Hora1Intervencao     1213\n",
       "FonteAlerta         23175\n",
       "Perimetro           22349\n",
       "APS                 22116\n",
       "Causa                7013\n",
       "TipoCausa            7013\n",
       "Região PROF             2\n",
       "UGF                     1\n",
       "dtype: int64"
      ]
     },
     "metadata": {},
     "output_type": "display_data"
    }
   ],
   "source": [
    "# Inspecting colunms with null values\n",
    "display(df[df.columns[df.isnull().any()]].isnull().sum(axis=0))"
   ]
  },
  {
   "cell_type": "code",
   "execution_count": 56,
   "metadata": {},
   "outputs": [
    {
     "data": {
      "text/plain": [
       "DataAlerta      object\n",
       "HoraAlerta      object\n",
       "DataExtincao    object\n",
       "HoraExtincao    object\n",
       "dtype: object"
      ]
     },
     "execution_count": 56,
     "metadata": {},
     "output_type": "execute_result"
    }
   ],
   "source": [
    "# Inspecting columns datatype\n",
    "df[['DataAlerta','HoraAlerta', 'DataExtincao', 'HoraExtincao']].dtypes"
   ]
  },
  {
   "cell_type": "code",
   "execution_count": 58,
   "metadata": {},
   "outputs": [
    {
     "name": "stdout",
     "output_type": "stream",
     "text": [
      "DAlert        datetime64[ns]\n",
      "DExtiction    datetime64[ns]\n",
      "dtype: object\n"
     ]
    },
    {
     "data": {
      "text/html": [
       "<div>\n",
       "<style scoped>\n",
       "    .dataframe tbody tr th:only-of-type {\n",
       "        vertical-align: middle;\n",
       "    }\n",
       "\n",
       "    .dataframe tbody tr th {\n",
       "        vertical-align: top;\n",
       "    }\n",
       "\n",
       "    .dataframe thead th {\n",
       "        text-align: right;\n",
       "    }\n",
       "</style>\n",
       "<table border=\"1\" class=\"dataframe\">\n",
       "  <thead>\n",
       "    <tr style=\"text-align: right;\">\n",
       "      <th></th>\n",
       "      <th>DAlert</th>\n",
       "      <th>DExtiction</th>\n",
       "    </tr>\n",
       "  </thead>\n",
       "  <tbody>\n",
       "    <tr>\n",
       "      <th>0</th>\n",
       "      <td>2015-03-24 17:01:00</td>\n",
       "      <td>2015-03-24 18:09:00</td>\n",
       "    </tr>\n",
       "    <tr>\n",
       "      <th>1</th>\n",
       "      <td>2015-03-24 17:10:00</td>\n",
       "      <td>2015-03-24 18:47:00</td>\n",
       "    </tr>\n",
       "  </tbody>\n",
       "</table>\n",
       "</div>"
      ],
      "text/plain": [
       "               DAlert          DExtiction\n",
       "0 2015-03-24 17:01:00 2015-03-24 18:09:00\n",
       "1 2015-03-24 17:10:00 2015-03-24 18:47:00"
      ]
     },
     "execution_count": 58,
     "metadata": {},
     "output_type": "execute_result"
    }
   ],
   "source": [
    "# Converting Date Columens to datetime\n",
    "df['DAlert'] = df['DataAlerta'].str[:10].astype(str) + ' ' + df['HoraAlerta'].astype(str)\n",
    "df['DExtiction'] = df['DataExtincao'].str[:10].astype(str) + ' ' + df['HoraExtincao'].astype(str)\n",
    "\n",
    "df[['DAlert', 'DExtiction']] = df[['DAlert', 'DExtiction']].apply(pd.to_datetime, errors='coerce')\n",
    "\n",
    "# Inspecting columns datatype\n",
    "print(df[['DAlert', 'DExtiction']].dtypes)\n",
    "\n",
    "# Inspecting first rows\n",
    "df[['DAlert', 'DExtiction']].head(2)"
   ]
  },
  {
   "cell_type": "code",
   "execution_count": 61,
   "metadata": {},
   "outputs": [
    {
     "name": "stdout",
     "output_type": "stream",
     "text": [
      "Number of wildfires by Type - Absolute\n"
     ]
    },
    {
     "data": {
      "text/plain": [
       "Florestal       15464\n",
       "Agrícola         4163\n",
       "Falso Alarme     2925\n",
       "Queimada          623\n",
       "Name: Tipo, dtype: int64"
      ]
     },
     "metadata": {},
     "output_type": "display_data"
    },
    {
     "name": "stdout",
     "output_type": "stream",
     "text": [
      "Number of wildfires by Type - Relative\n"
     ]
    },
    {
     "data": {
      "text/plain": [
       "Florestal       0.667271\n",
       "Agrícola        0.179633\n",
       "Falso Alarme    0.126214\n",
       "Queimada        0.026882\n",
       "Name: Tipo, dtype: float64"
      ]
     },
     "metadata": {},
     "output_type": "display_data"
    }
   ],
   "source": [
    "print('Number of wildfires by Type - Absolute')\n",
    "display(df.Tipo.value_counts(dropna=False))\n",
    "\n",
    "print('Number of wildfires by Type - Relative')\n",
    "display(df.Tipo.value_counts(dropna=False, normalize=True))"
   ]
  },
  {
   "cell_type": "code",
   "execution_count": 80,
   "metadata": {},
   "outputs": [
    {
     "data": {
      "text/html": [
       "<div>\n",
       "<style scoped>\n",
       "    .dataframe tbody tr th:only-of-type {\n",
       "        vertical-align: middle;\n",
       "    }\n",
       "\n",
       "    .dataframe tbody tr th {\n",
       "        vertical-align: top;\n",
       "    }\n",
       "\n",
       "    .dataframe thead th {\n",
       "        text-align: right;\n",
       "    }\n",
       "</style>\n",
       "<table border=\"1\" class=\"dataframe\">\n",
       "  <thead>\n",
       "    <tr style=\"text-align: right;\">\n",
       "      <th></th>\n",
       "      <th>District</th>\n",
       "      <th>Type</th>\n",
       "      <th>TypeCause</th>\n",
       "      <th>DateAlert</th>\n",
       "      <th>DateExtinction</th>\n",
       "      <th>AreaTotal</th>\n",
       "    </tr>\n",
       "  </thead>\n",
       "  <tbody>\n",
       "    <tr>\n",
       "      <th>0</th>\n",
       "      <td>Porto</td>\n",
       "      <td>Florestal</td>\n",
       "      <td>Negligente</td>\n",
       "      <td>2015-03-24 17:10:00</td>\n",
       "      <td>2015-03-24 18:47:00</td>\n",
       "      <td>1,35</td>\n",
       "    </tr>\n",
       "    <tr>\n",
       "      <th>1</th>\n",
       "      <td>Vila Real</td>\n",
       "      <td>Florestal</td>\n",
       "      <td>Negligente</td>\n",
       "      <td>2015-03-24 21:40:00</td>\n",
       "      <td>2015-03-25 05:45:00</td>\n",
       "      <td>38,5</td>\n",
       "    </tr>\n",
       "    <tr>\n",
       "      <th>2</th>\n",
       "      <td>Porto</td>\n",
       "      <td>Florestal</td>\n",
       "      <td>NaN</td>\n",
       "      <td>2015-03-25 15:30:00</td>\n",
       "      <td>2015-03-25 18:25:00</td>\n",
       "      <td>0,05</td>\n",
       "    </tr>\n",
       "    <tr>\n",
       "      <th>3</th>\n",
       "      <td>Vila Real</td>\n",
       "      <td>Florestal</td>\n",
       "      <td>Negligente</td>\n",
       "      <td>2015-03-25 16:00:00</td>\n",
       "      <td>2015-03-25 17:00:00</td>\n",
       "      <td>0,01</td>\n",
       "    </tr>\n",
       "    <tr>\n",
       "      <th>4</th>\n",
       "      <td>Vila Real</td>\n",
       "      <td>Florestal</td>\n",
       "      <td>Negligente</td>\n",
       "      <td>2015-03-25 16:40:00</td>\n",
       "      <td>2015-03-25 18:00:00</td>\n",
       "      <td>0,02</td>\n",
       "    </tr>\n",
       "  </tbody>\n",
       "</table>\n",
       "</div>"
      ],
      "text/plain": [
       "    District       Type   TypeCause           DateAlert      DateExtinction  \\\n",
       "0      Porto  Florestal  Negligente 2015-03-24 17:10:00 2015-03-24 18:47:00   \n",
       "1  Vila Real  Florestal  Negligente 2015-03-24 21:40:00 2015-03-25 05:45:00   \n",
       "2      Porto  Florestal         NaN 2015-03-25 15:30:00 2015-03-25 18:25:00   \n",
       "3  Vila Real  Florestal  Negligente 2015-03-25 16:00:00 2015-03-25 17:00:00   \n",
       "4  Vila Real  Florestal  Negligente 2015-03-25 16:40:00 2015-03-25 18:00:00   \n",
       "\n",
       "  AreaTotal  \n",
       "0      1,35  \n",
       "1      38,5  \n",
       "2      0,05  \n",
       "3      0,01  \n",
       "4      0,02  "
      ]
     },
     "execution_count": 80,
     "metadata": {},
     "output_type": "execute_result"
    }
   ],
   "source": [
    "# Columns for analysis\n",
    "columns = ['Distrito','Tipo', 'TipoCausa', 'DAlert','DExtiction','AA_Total (pov+mato+agric) (ha)']\n",
    "names   = ['District','Type', 'TypeCause', 'DateAlert', 'DateExtinction','AreaTotal']\n",
    "\n",
    "# Filter the dataset\n",
    "filtered = df[columns].query('Distrito in @North & Tipo != \"Falso Alarme\"')\n",
    "\n",
    "# Reset & drop Indexes\n",
    "filtered.reset_index(inplace=True, drop=True)\n",
    "\n",
    "# Renaming columns\n",
    "filtered.columns = names\n",
    "filtered.head()"
   ]
  },
  {
   "cell_type": "code",
   "execution_count": 81,
   "metadata": {},
   "outputs": [
    {
     "data": {
      "text/plain": [
       "Florestal    0.950225\n",
       "Agrícola     0.046582\n",
       "Queimada     0.003193\n",
       "Name: Type, dtype: float64"
      ]
     },
     "metadata": {},
     "output_type": "display_data"
    }
   ],
   "source": [
    "# Inspecting Type of Fire\n",
    "display(filtered.Type.value_counts(normalize=True))"
   ]
  },
  {
   "cell_type": "code",
   "execution_count": 82,
   "metadata": {},
   "outputs": [],
   "source": [
    "# Calculating time of fire and getting day of week\n",
    "\n",
    "filtered['FireDuration']   = filtered.DateExtinction - filtered.DateAlert\n",
    "filtered['DayAlert']       = filtered.DateAlert.dt.day_name()\n",
    "filtered['Month']          = filtered.DateExtinction.dt.month_name().str[:3]\n",
    "filtered['HourTotal']      = filtered.FireDuration / pd.Timedelta(1, 'h')\n",
    "filtered['DayOfYear']      = filtered.DateAlert.dt.day_of_year\n",
    "filtered['HourOfDay']      = filtered.DateAlert.dt.hour\n",
    "\n",
    "# Converting datatypes\n",
    "filtered['AreaTotal'] = filtered['AreaTotal'].str.replace(',', '.').astype('float')\n",
    "filtered['Month'] = filtered['Month'].astype(month_type)\n",
    "filtered['DayAlert'] = filtered['DayAlert'].astype(day_type)\n",
    "\n"
   ]
  },
  {
   "cell_type": "code",
   "execution_count": 83,
   "metadata": {},
   "outputs": [
    {
     "data": {
      "text/plain": [
       "TypeCause         2081\n",
       "DateExtinction       9\n",
       "FireDuration         9\n",
       "Month                9\n",
       "HourTotal            9\n",
       "dtype: int64"
      ]
     },
     "metadata": {},
     "output_type": "display_data"
    }
   ],
   "source": [
    "# Inspecting colunms with null values\n",
    "display(filtered[filtered.columns[filtered.isnull().any()]].isnull().sum(axis=0))"
   ]
  },
  {
   "cell_type": "code",
   "execution_count": 84,
   "metadata": {},
   "outputs": [
    {
     "data": {
      "text/html": [
       "<div>\n",
       "<style scoped>\n",
       "    .dataframe tbody tr th:only-of-type {\n",
       "        vertical-align: middle;\n",
       "    }\n",
       "\n",
       "    .dataframe tbody tr th {\n",
       "        vertical-align: top;\n",
       "    }\n",
       "\n",
       "    .dataframe thead th {\n",
       "        text-align: right;\n",
       "    }\n",
       "</style>\n",
       "<table border=\"1\" class=\"dataframe\">\n",
       "  <thead>\n",
       "    <tr style=\"text-align: right;\">\n",
       "      <th></th>\n",
       "      <th>District</th>\n",
       "      <th>Type</th>\n",
       "      <th>TypeCause</th>\n",
       "      <th>DateAlert</th>\n",
       "      <th>DateExtinction</th>\n",
       "      <th>AreaTotal</th>\n",
       "      <th>FireDuration</th>\n",
       "      <th>DayAlert</th>\n",
       "      <th>Month</th>\n",
       "      <th>HourTotal</th>\n",
       "      <th>DayOfYear</th>\n",
       "      <th>HourOfDay</th>\n",
       "    </tr>\n",
       "  </thead>\n",
       "  <tbody>\n",
       "    <tr>\n",
       "      <th>811</th>\n",
       "      <td>Porto</td>\n",
       "      <td>Florestal</td>\n",
       "      <td>Negligente</td>\n",
       "      <td>2015-03-06 11:37:00</td>\n",
       "      <td>NaT</td>\n",
       "      <td>3.797</td>\n",
       "      <td>NaT</td>\n",
       "      <td>Friday</td>\n",
       "      <td>NaN</td>\n",
       "      <td>NaN</td>\n",
       "      <td>65</td>\n",
       "      <td>11</td>\n",
       "    </tr>\n",
       "    <tr>\n",
       "      <th>843</th>\n",
       "      <td>Porto</td>\n",
       "      <td>Florestal</td>\n",
       "      <td>NaN</td>\n",
       "      <td>2015-07-20 13:08:00</td>\n",
       "      <td>NaT</td>\n",
       "      <td>2.000</td>\n",
       "      <td>NaT</td>\n",
       "      <td>Monday</td>\n",
       "      <td>NaN</td>\n",
       "      <td>NaN</td>\n",
       "      <td>201</td>\n",
       "      <td>13</td>\n",
       "    </tr>\n",
       "    <tr>\n",
       "      <th>846</th>\n",
       "      <td>Vila Real</td>\n",
       "      <td>Florestal</td>\n",
       "      <td>Reacendimento</td>\n",
       "      <td>2015-07-20 22:20:00</td>\n",
       "      <td>NaT</td>\n",
       "      <td>0.001</td>\n",
       "      <td>NaT</td>\n",
       "      <td>Monday</td>\n",
       "      <td>NaN</td>\n",
       "      <td>NaN</td>\n",
       "      <td>201</td>\n",
       "      <td>22</td>\n",
       "    </tr>\n",
       "    <tr>\n",
       "      <th>3248</th>\n",
       "      <td>Porto</td>\n",
       "      <td>Florestal</td>\n",
       "      <td>Negligente</td>\n",
       "      <td>2015-05-18 21:24:00</td>\n",
       "      <td>NaT</td>\n",
       "      <td>0.005</td>\n",
       "      <td>NaT</td>\n",
       "      <td>Monday</td>\n",
       "      <td>NaN</td>\n",
       "      <td>NaN</td>\n",
       "      <td>138</td>\n",
       "      <td>21</td>\n",
       "    </tr>\n",
       "    <tr>\n",
       "      <th>3323</th>\n",
       "      <td>Porto</td>\n",
       "      <td>Florestal</td>\n",
       "      <td>NaN</td>\n",
       "      <td>2015-06-27 00:05:00</td>\n",
       "      <td>NaT</td>\n",
       "      <td>0.001</td>\n",
       "      <td>NaT</td>\n",
       "      <td>Saturday</td>\n",
       "      <td>NaN</td>\n",
       "      <td>NaN</td>\n",
       "      <td>178</td>\n",
       "      <td>0</td>\n",
       "    </tr>\n",
       "    <tr>\n",
       "      <th>3901</th>\n",
       "      <td>Vila Real</td>\n",
       "      <td>Florestal</td>\n",
       "      <td>Negligente</td>\n",
       "      <td>2015-10-01 12:19:00</td>\n",
       "      <td>NaT</td>\n",
       "      <td>2.000</td>\n",
       "      <td>NaT</td>\n",
       "      <td>Thursday</td>\n",
       "      <td>NaN</td>\n",
       "      <td>NaN</td>\n",
       "      <td>274</td>\n",
       "      <td>12</td>\n",
       "    </tr>\n",
       "    <tr>\n",
       "      <th>3976</th>\n",
       "      <td>Vila Real</td>\n",
       "      <td>Florestal</td>\n",
       "      <td>Negligente</td>\n",
       "      <td>2015-09-29 13:18:00</td>\n",
       "      <td>NaT</td>\n",
       "      <td>0.050</td>\n",
       "      <td>NaT</td>\n",
       "      <td>Tuesday</td>\n",
       "      <td>NaN</td>\n",
       "      <td>NaN</td>\n",
       "      <td>272</td>\n",
       "      <td>13</td>\n",
       "    </tr>\n",
       "    <tr>\n",
       "      <th>4429</th>\n",
       "      <td>Porto</td>\n",
       "      <td>Florestal</td>\n",
       "      <td>NaN</td>\n",
       "      <td>2015-07-23 23:55:00</td>\n",
       "      <td>NaT</td>\n",
       "      <td>0.001</td>\n",
       "      <td>NaT</td>\n",
       "      <td>Thursday</td>\n",
       "      <td>NaN</td>\n",
       "      <td>NaN</td>\n",
       "      <td>204</td>\n",
       "      <td>23</td>\n",
       "    </tr>\n",
       "    <tr>\n",
       "      <th>4508</th>\n",
       "      <td>Porto</td>\n",
       "      <td>Agrícola</td>\n",
       "      <td>Desconhecida</td>\n",
       "      <td>2015-07-23 23:40:00</td>\n",
       "      <td>NaT</td>\n",
       "      <td>0.020</td>\n",
       "      <td>NaT</td>\n",
       "      <td>Thursday</td>\n",
       "      <td>NaN</td>\n",
       "      <td>NaN</td>\n",
       "      <td>204</td>\n",
       "      <td>23</td>\n",
       "    </tr>\n",
       "  </tbody>\n",
       "</table>\n",
       "</div>"
      ],
      "text/plain": [
       "       District       Type      TypeCause           DateAlert DateExtinction  \\\n",
       "811       Porto  Florestal     Negligente 2015-03-06 11:37:00            NaT   \n",
       "843       Porto  Florestal            NaN 2015-07-20 13:08:00            NaT   \n",
       "846   Vila Real  Florestal  Reacendimento 2015-07-20 22:20:00            NaT   \n",
       "3248      Porto  Florestal     Negligente 2015-05-18 21:24:00            NaT   \n",
       "3323      Porto  Florestal            NaN 2015-06-27 00:05:00            NaT   \n",
       "3901  Vila Real  Florestal     Negligente 2015-10-01 12:19:00            NaT   \n",
       "3976  Vila Real  Florestal     Negligente 2015-09-29 13:18:00            NaT   \n",
       "4429      Porto  Florestal            NaN 2015-07-23 23:55:00            NaT   \n",
       "4508      Porto   Agrícola   Desconhecida 2015-07-23 23:40:00            NaT   \n",
       "\n",
       "      AreaTotal FireDuration  DayAlert Month  HourTotal  DayOfYear  HourOfDay  \n",
       "811       3.797          NaT    Friday   NaN        NaN         65         11  \n",
       "843       2.000          NaT    Monday   NaN        NaN        201         13  \n",
       "846       0.001          NaT    Monday   NaN        NaN        201         22  \n",
       "3248      0.005          NaT    Monday   NaN        NaN        138         21  \n",
       "3323      0.001          NaT  Saturday   NaN        NaN        178          0  \n",
       "3901      2.000          NaT  Thursday   NaN        NaN        274         12  \n",
       "3976      0.050          NaT   Tuesday   NaN        NaN        272         13  \n",
       "4429      0.001          NaT  Thursday   NaN        NaN        204         23  \n",
       "4508      0.020          NaT  Thursday   NaN        NaN        204         23  "
      ]
     },
     "metadata": {},
     "output_type": "display_data"
    },
    {
     "data": {
      "text/html": [
       "<div>\n",
       "<style scoped>\n",
       "    .dataframe tbody tr th:only-of-type {\n",
       "        vertical-align: middle;\n",
       "    }\n",
       "\n",
       "    .dataframe tbody tr th {\n",
       "        vertical-align: top;\n",
       "    }\n",
       "\n",
       "    .dataframe thead th {\n",
       "        text-align: right;\n",
       "    }\n",
       "</style>\n",
       "<table border=\"1\" class=\"dataframe\">\n",
       "  <thead>\n",
       "    <tr style=\"text-align: right;\">\n",
       "      <th></th>\n",
       "      <th>District</th>\n",
       "      <th>Type</th>\n",
       "      <th>TypeCause</th>\n",
       "      <th>DateAlert</th>\n",
       "      <th>DateExtinction</th>\n",
       "      <th>AreaTotal</th>\n",
       "      <th>FireDuration</th>\n",
       "      <th>DayAlert</th>\n",
       "      <th>Month</th>\n",
       "      <th>HourTotal</th>\n",
       "      <th>DayOfYear</th>\n",
       "      <th>HourOfDay</th>\n",
       "    </tr>\n",
       "  </thead>\n",
       "  <tbody>\n",
       "  </tbody>\n",
       "</table>\n",
       "</div>"
      ],
      "text/plain": [
       "Empty DataFrame\n",
       "Columns: [District, Type, TypeCause, DateAlert, DateExtinction, AreaTotal, FireDuration, DayAlert, Month, HourTotal, DayOfYear, HourOfDay]\n",
       "Index: []"
      ]
     },
     "metadata": {},
     "output_type": "display_data"
    }
   ],
   "source": [
    "# Rows with null values on Date Extinction\n",
    "display(filtered[filtered.Month.isnull()])\n",
    "\n",
    "# Removing rows with null values on Date Extinction\n",
    "filtered.dropna(subset=['Month'], inplace=True, axis='rows')\n",
    "\n",
    "# Inspecting dataset\n",
    "display(filtered[filtered.Month.isnull()])"
   ]
  },
  {
   "cell_type": "code",
   "execution_count": 85,
   "metadata": {},
   "outputs": [
    {
     "name": "stdout",
     "output_type": "stream",
     "text": [
      "The dataset has 5315 rows and 12 columns. \n",
      "Filtered dataframe accounts for 22.93% of source\n"
     ]
    }
   ],
   "source": [
    "# Inspecting new dataset shape\n",
    "print(f'The dataset has {filtered.shape[0]} rows and {filtered.shape[1]} columns. ')\n",
    "print(f'Filtered dataframe accounts for {round(filtered.shape[0]/df.shape[0]*100, 2)}% of source')"
   ]
  },
  {
   "cell_type": "code",
   "execution_count": 87,
   "metadata": {},
   "outputs": [
    {
     "data": {
      "text/html": [
       "<div>\n",
       "<style scoped>\n",
       "    .dataframe tbody tr th:only-of-type {\n",
       "        vertical-align: middle;\n",
       "    }\n",
       "\n",
       "    .dataframe tbody tr th {\n",
       "        vertical-align: top;\n",
       "    }\n",
       "\n",
       "    .dataframe thead th {\n",
       "        text-align: right;\n",
       "    }\n",
       "</style>\n",
       "<table border=\"1\" class=\"dataframe\">\n",
       "  <thead>\n",
       "    <tr style=\"text-align: right;\">\n",
       "      <th></th>\n",
       "      <th>District</th>\n",
       "      <th>Type</th>\n",
       "      <th>TypeCause</th>\n",
       "      <th>DateAlert</th>\n",
       "      <th>DateExtinction</th>\n",
       "      <th>AreaTotal</th>\n",
       "      <th>FireDuration</th>\n",
       "      <th>DayAlert</th>\n",
       "      <th>Month</th>\n",
       "      <th>HourTotal</th>\n",
       "      <th>DayOfYear</th>\n",
       "      <th>HourOfDay</th>\n",
       "    </tr>\n",
       "  </thead>\n",
       "  <tbody>\n",
       "    <tr>\n",
       "      <th>77</th>\n",
       "      <td>Vila Real</td>\n",
       "      <td>Florestal</td>\n",
       "      <td>Intencional</td>\n",
       "      <td>2015-03-06 16:39:00</td>\n",
       "      <td>2015-03-06 00:00:00</td>\n",
       "      <td>6.00</td>\n",
       "      <td>-1 days +07:21:00</td>\n",
       "      <td>Friday</td>\n",
       "      <td>Mar</td>\n",
       "      <td>-16.650000</td>\n",
       "      <td>65</td>\n",
       "      <td>16</td>\n",
       "    </tr>\n",
       "    <tr>\n",
       "      <th>689</th>\n",
       "      <td>Vila Real</td>\n",
       "      <td>Florestal</td>\n",
       "      <td>Negligente</td>\n",
       "      <td>2015-05-17 11:52:00</td>\n",
       "      <td>2015-05-17 00:23:00</td>\n",
       "      <td>21.00</td>\n",
       "      <td>-1 days +12:31:00</td>\n",
       "      <td>Sunday</td>\n",
       "      <td>May</td>\n",
       "      <td>-11.483333</td>\n",
       "      <td>137</td>\n",
       "      <td>11</td>\n",
       "    </tr>\n",
       "    <tr>\n",
       "      <th>2917</th>\n",
       "      <td>Vila Real</td>\n",
       "      <td>Florestal</td>\n",
       "      <td>NaN</td>\n",
       "      <td>2015-08-15 20:56:00</td>\n",
       "      <td>2015-08-15 02:20:00</td>\n",
       "      <td>2.50</td>\n",
       "      <td>-1 days +05:24:00</td>\n",
       "      <td>Saturday</td>\n",
       "      <td>Aug</td>\n",
       "      <td>-18.600000</td>\n",
       "      <td>227</td>\n",
       "      <td>20</td>\n",
       "    </tr>\n",
       "    <tr>\n",
       "      <th>3388</th>\n",
       "      <td>Vila Real</td>\n",
       "      <td>Florestal</td>\n",
       "      <td>Negligente</td>\n",
       "      <td>2015-07-21 19:09:00</td>\n",
       "      <td>2015-07-21 02:05:00</td>\n",
       "      <td>1.50</td>\n",
       "      <td>-1 days +06:56:00</td>\n",
       "      <td>Tuesday</td>\n",
       "      <td>Jul</td>\n",
       "      <td>-17.066667</td>\n",
       "      <td>202</td>\n",
       "      <td>19</td>\n",
       "    </tr>\n",
       "    <tr>\n",
       "      <th>3625</th>\n",
       "      <td>Vila Real</td>\n",
       "      <td>Florestal</td>\n",
       "      <td>Desconhecida</td>\n",
       "      <td>2015-07-11 20:43:00</td>\n",
       "      <td>2015-07-11 02:30:00</td>\n",
       "      <td>0.14</td>\n",
       "      <td>-1 days +05:47:00</td>\n",
       "      <td>Saturday</td>\n",
       "      <td>Jul</td>\n",
       "      <td>-18.216667</td>\n",
       "      <td>192</td>\n",
       "      <td>20</td>\n",
       "    </tr>\n",
       "  </tbody>\n",
       "</table>\n",
       "</div>"
      ],
      "text/plain": [
       "       District       Type     TypeCause           DateAlert  \\\n",
       "77    Vila Real  Florestal   Intencional 2015-03-06 16:39:00   \n",
       "689   Vila Real  Florestal    Negligente 2015-05-17 11:52:00   \n",
       "2917  Vila Real  Florestal           NaN 2015-08-15 20:56:00   \n",
       "3388  Vila Real  Florestal    Negligente 2015-07-21 19:09:00   \n",
       "3625  Vila Real  Florestal  Desconhecida 2015-07-11 20:43:00   \n",
       "\n",
       "          DateExtinction  AreaTotal      FireDuration  DayAlert Month  \\\n",
       "77   2015-03-06 00:00:00       6.00 -1 days +07:21:00    Friday   Mar   \n",
       "689  2015-05-17 00:23:00      21.00 -1 days +12:31:00    Sunday   May   \n",
       "2917 2015-08-15 02:20:00       2.50 -1 days +05:24:00  Saturday   Aug   \n",
       "3388 2015-07-21 02:05:00       1.50 -1 days +06:56:00   Tuesday   Jul   \n",
       "3625 2015-07-11 02:30:00       0.14 -1 days +05:47:00  Saturday   Jul   \n",
       "\n",
       "      HourTotal  DayOfYear  HourOfDay  \n",
       "77   -16.650000         65         16  \n",
       "689  -11.483333        137         11  \n",
       "2917 -18.600000        227         20  \n",
       "3388 -17.066667        202         19  \n",
       "3625 -18.216667        192         20  "
      ]
     },
     "metadata": {},
     "output_type": "display_data"
    },
    {
     "data": {
      "text/html": [
       "<div>\n",
       "<style scoped>\n",
       "    .dataframe tbody tr th:only-of-type {\n",
       "        vertical-align: middle;\n",
       "    }\n",
       "\n",
       "    .dataframe tbody tr th {\n",
       "        vertical-align: top;\n",
       "    }\n",
       "\n",
       "    .dataframe thead th {\n",
       "        text-align: right;\n",
       "    }\n",
       "</style>\n",
       "<table border=\"1\" class=\"dataframe\">\n",
       "  <thead>\n",
       "    <tr style=\"text-align: right;\">\n",
       "      <th></th>\n",
       "      <th>District</th>\n",
       "      <th>Type</th>\n",
       "      <th>TypeCause</th>\n",
       "      <th>DateAlert</th>\n",
       "      <th>DateExtinction</th>\n",
       "      <th>AreaTotal</th>\n",
       "      <th>FireDuration</th>\n",
       "      <th>DayAlert</th>\n",
       "      <th>Month</th>\n",
       "      <th>HourTotal</th>\n",
       "      <th>DayOfYear</th>\n",
       "      <th>HourOfDay</th>\n",
       "    </tr>\n",
       "  </thead>\n",
       "  <tbody>\n",
       "  </tbody>\n",
       "</table>\n",
       "</div>"
      ],
      "text/plain": [
       "Empty DataFrame\n",
       "Columns: [District, Type, TypeCause, DateAlert, DateExtinction, AreaTotal, FireDuration, DayAlert, Month, HourTotal, DayOfYear, HourOfDay]\n",
       "Index: []"
      ]
     },
     "metadata": {},
     "output_type": "display_data"
    }
   ],
   "source": [
    "# Inspecting whether the date of Alert is greater that Extinction\n",
    "display(filtered[(filtered.DateAlert > filtered.DateExtinction) == True])\n",
    "\n",
    "# Removing rows where date of Alert is greater that Extinction\n",
    "north = filtered[(filtered.DateAlert > filtered.DateExtinction) == False].copy(deep=True)\n",
    "display(north[(north.DateAlert > north.DateExtinction) == True])"
   ]
  },
  {
   "cell_type": "code",
   "execution_count": 88,
   "metadata": {},
   "outputs": [
    {
     "data": {
      "text/html": [
       "<div>\n",
       "<style scoped>\n",
       "    .dataframe tbody tr th:only-of-type {\n",
       "        vertical-align: middle;\n",
       "    }\n",
       "\n",
       "    .dataframe tbody tr th {\n",
       "        vertical-align: top;\n",
       "    }\n",
       "\n",
       "    .dataframe thead th {\n",
       "        text-align: right;\n",
       "    }\n",
       "</style>\n",
       "<table border=\"1\" class=\"dataframe\">\n",
       "  <thead>\n",
       "    <tr style=\"text-align: right;\">\n",
       "      <th></th>\n",
       "      <th>District</th>\n",
       "      <th>Type</th>\n",
       "      <th>TypeCause</th>\n",
       "      <th>DateAlert</th>\n",
       "      <th>DateExtinction</th>\n",
       "      <th>AreaTotal</th>\n",
       "      <th>FireDuration</th>\n",
       "      <th>DayAlert</th>\n",
       "      <th>Month</th>\n",
       "      <th>HourTotal</th>\n",
       "      <th>DayOfYear</th>\n",
       "      <th>HourOfDay</th>\n",
       "    </tr>\n",
       "  </thead>\n",
       "  <tbody>\n",
       "    <tr>\n",
       "      <th>0</th>\n",
       "      <td>Porto</td>\n",
       "      <td>Florestal</td>\n",
       "      <td>Negligente</td>\n",
       "      <td>2015-03-24 17:10:00</td>\n",
       "      <td>2015-03-24 18:47:00</td>\n",
       "      <td>1.35</td>\n",
       "      <td>0 days 01:37:00</td>\n",
       "      <td>Tuesday</td>\n",
       "      <td>Mar</td>\n",
       "      <td>1.616667</td>\n",
       "      <td>83</td>\n",
       "      <td>17</td>\n",
       "    </tr>\n",
       "    <tr>\n",
       "      <th>1</th>\n",
       "      <td>Vila Real</td>\n",
       "      <td>Florestal</td>\n",
       "      <td>Negligente</td>\n",
       "      <td>2015-03-24 21:40:00</td>\n",
       "      <td>2015-03-25 05:45:00</td>\n",
       "      <td>38.50</td>\n",
       "      <td>0 days 08:05:00</td>\n",
       "      <td>Tuesday</td>\n",
       "      <td>Mar</td>\n",
       "      <td>8.083333</td>\n",
       "      <td>83</td>\n",
       "      <td>21</td>\n",
       "    </tr>\n",
       "    <tr>\n",
       "      <th>2</th>\n",
       "      <td>Porto</td>\n",
       "      <td>Florestal</td>\n",
       "      <td>NaN</td>\n",
       "      <td>2015-03-25 15:30:00</td>\n",
       "      <td>2015-03-25 18:25:00</td>\n",
       "      <td>0.05</td>\n",
       "      <td>0 days 02:55:00</td>\n",
       "      <td>Wednesday</td>\n",
       "      <td>Mar</td>\n",
       "      <td>2.916667</td>\n",
       "      <td>84</td>\n",
       "      <td>15</td>\n",
       "    </tr>\n",
       "    <tr>\n",
       "      <th>3</th>\n",
       "      <td>Vila Real</td>\n",
       "      <td>Florestal</td>\n",
       "      <td>Negligente</td>\n",
       "      <td>2015-03-25 16:00:00</td>\n",
       "      <td>2015-03-25 17:00:00</td>\n",
       "      <td>0.01</td>\n",
       "      <td>0 days 01:00:00</td>\n",
       "      <td>Wednesday</td>\n",
       "      <td>Mar</td>\n",
       "      <td>1.000000</td>\n",
       "      <td>84</td>\n",
       "      <td>16</td>\n",
       "    </tr>\n",
       "    <tr>\n",
       "      <th>4</th>\n",
       "      <td>Vila Real</td>\n",
       "      <td>Florestal</td>\n",
       "      <td>Negligente</td>\n",
       "      <td>2015-03-25 16:40:00</td>\n",
       "      <td>2015-03-25 18:00:00</td>\n",
       "      <td>0.02</td>\n",
       "      <td>0 days 01:20:00</td>\n",
       "      <td>Wednesday</td>\n",
       "      <td>Mar</td>\n",
       "      <td>1.333333</td>\n",
       "      <td>84</td>\n",
       "      <td>16</td>\n",
       "    </tr>\n",
       "  </tbody>\n",
       "</table>\n",
       "</div>"
      ],
      "text/plain": [
       "    District       Type   TypeCause           DateAlert      DateExtinction  \\\n",
       "0      Porto  Florestal  Negligente 2015-03-24 17:10:00 2015-03-24 18:47:00   \n",
       "1  Vila Real  Florestal  Negligente 2015-03-24 21:40:00 2015-03-25 05:45:00   \n",
       "2      Porto  Florestal         NaN 2015-03-25 15:30:00 2015-03-25 18:25:00   \n",
       "3  Vila Real  Florestal  Negligente 2015-03-25 16:00:00 2015-03-25 17:00:00   \n",
       "4  Vila Real  Florestal  Negligente 2015-03-25 16:40:00 2015-03-25 18:00:00   \n",
       "\n",
       "   AreaTotal    FireDuration   DayAlert Month  HourTotal  DayOfYear  HourOfDay  \n",
       "0       1.35 0 days 01:37:00    Tuesday   Mar   1.616667         83         17  \n",
       "1      38.50 0 days 08:05:00    Tuesday   Mar   8.083333         83         21  \n",
       "2       0.05 0 days 02:55:00  Wednesday   Mar   2.916667         84         15  \n",
       "3       0.01 0 days 01:00:00  Wednesday   Mar   1.000000         84         16  \n",
       "4       0.02 0 days 01:20:00  Wednesday   Mar   1.333333         84         16  "
      ]
     },
     "execution_count": 88,
     "metadata": {},
     "output_type": "execute_result"
    }
   ],
   "source": [
    "north.head()"
   ]
  },
  {
   "cell_type": "code",
   "execution_count": 89,
   "metadata": {},
   "outputs": [
    {
     "name": "stdout",
     "output_type": "stream",
     "text": [
      "TypeCause  Numbers\n"
     ]
    },
    {
     "data": {
      "text/plain": [
       "NaN              0.391149\n",
       "Negligente       0.247458\n",
       "Desconhecida     0.140490\n",
       "Intencional      0.114878\n",
       "Reacendimento    0.103955\n",
       "Natural          0.002072\n",
       "Name: TypeCause, dtype: float64"
      ]
     },
     "metadata": {},
     "output_type": "display_data"
    },
    {
     "name": "stdout",
     "output_type": "stream",
     "text": [
      "Type Numbers\n"
     ]
    },
    {
     "data": {
      "text/plain": [
       "Florestal    0.950282\n",
       "Agrícola     0.046516\n",
       "Queimada     0.003202\n",
       "Name: Type, dtype: float64"
      ]
     },
     "metadata": {},
     "output_type": "display_data"
    }
   ],
   "source": [
    "print(\"TypeCause  Numbers\")\n",
    "display(north.TypeCause.value_counts(dropna=False, ascending=False, normalize=True))\n",
    "print(\"Type Numbers\")\n",
    "display(north.Type.value_counts(dropna=False, ascending=False, normalize=True))\n"
   ]
  },
  {
   "cell_type": "code",
   "execution_count": 94,
   "metadata": {},
   "outputs": [
    {
     "data": {
      "text/html": [
       "<div>\n",
       "<style scoped>\n",
       "    .dataframe tbody tr th:only-of-type {\n",
       "        vertical-align: middle;\n",
       "    }\n",
       "\n",
       "    .dataframe tbody tr th {\n",
       "        vertical-align: top;\n",
       "    }\n",
       "\n",
       "    .dataframe thead th {\n",
       "        text-align: right;\n",
       "    }\n",
       "</style>\n",
       "<table border=\"1\" class=\"dataframe\">\n",
       "  <thead>\n",
       "    <tr style=\"text-align: right;\">\n",
       "      <th></th>\n",
       "      <th>District</th>\n",
       "      <th>Type</th>\n",
       "      <th>TypeCause</th>\n",
       "      <th>DateAlert</th>\n",
       "      <th>DateExtinction</th>\n",
       "      <th>AreaTotal</th>\n",
       "      <th>FireDuration</th>\n",
       "      <th>DayAlert</th>\n",
       "      <th>Month</th>\n",
       "      <th>HourTotal</th>\n",
       "      <th>DayOfYear</th>\n",
       "      <th>HourOfDay</th>\n",
       "    </tr>\n",
       "  </thead>\n",
       "  <tbody>\n",
       "    <tr>\n",
       "      <th>count</th>\n",
       "      <td>5310</td>\n",
       "      <td>5310</td>\n",
       "      <td>3233</td>\n",
       "      <td>5310</td>\n",
       "      <td>5310</td>\n",
       "      <td>5310.000000</td>\n",
       "      <td>5310</td>\n",
       "      <td>5310</td>\n",
       "      <td>5310</td>\n",
       "      <td>5310.000000</td>\n",
       "      <td>5310.000000</td>\n",
       "      <td>5310.000000</td>\n",
       "    </tr>\n",
       "    <tr>\n",
       "      <th>unique</th>\n",
       "      <td>2</td>\n",
       "      <td>3</td>\n",
       "      <td>5</td>\n",
       "      <td>NaN</td>\n",
       "      <td>NaN</td>\n",
       "      <td>NaN</td>\n",
       "      <td>NaN</td>\n",
       "      <td>7</td>\n",
       "      <td>12</td>\n",
       "      <td>NaN</td>\n",
       "      <td>NaN</td>\n",
       "      <td>NaN</td>\n",
       "    </tr>\n",
       "    <tr>\n",
       "      <th>top</th>\n",
       "      <td>Porto</td>\n",
       "      <td>Florestal</td>\n",
       "      <td>Negligente</td>\n",
       "      <td>NaN</td>\n",
       "      <td>NaN</td>\n",
       "      <td>NaN</td>\n",
       "      <td>NaN</td>\n",
       "      <td>Sunday</td>\n",
       "      <td>Aug</td>\n",
       "      <td>NaN</td>\n",
       "      <td>NaN</td>\n",
       "      <td>NaN</td>\n",
       "    </tr>\n",
       "    <tr>\n",
       "      <th>freq</th>\n",
       "      <td>3989</td>\n",
       "      <td>5046</td>\n",
       "      <td>1314</td>\n",
       "      <td>NaN</td>\n",
       "      <td>NaN</td>\n",
       "      <td>NaN</td>\n",
       "      <td>NaN</td>\n",
       "      <td>895</td>\n",
       "      <td>1208</td>\n",
       "      <td>NaN</td>\n",
       "      <td>NaN</td>\n",
       "      <td>NaN</td>\n",
       "    </tr>\n",
       "    <tr>\n",
       "      <th>mean</th>\n",
       "      <td>NaN</td>\n",
       "      <td>NaN</td>\n",
       "      <td>NaN</td>\n",
       "      <td>2015-06-28 17:59:51.446327808</td>\n",
       "      <td>2015-06-28 20:05:35.898305280</td>\n",
       "      <td>1.530223</td>\n",
       "      <td>0 days 02:05:44.451977401</td>\n",
       "      <td>NaN</td>\n",
       "      <td>NaN</td>\n",
       "      <td>2.095681</td>\n",
       "      <td>179.132957</td>\n",
       "      <td>14.321846</td>\n",
       "    </tr>\n",
       "    <tr>\n",
       "      <th>min</th>\n",
       "      <td>NaN</td>\n",
       "      <td>NaN</td>\n",
       "      <td>NaN</td>\n",
       "      <td>2015-01-01 16:12:00</td>\n",
       "      <td>2015-01-01 17:20:00</td>\n",
       "      <td>0.000100</td>\n",
       "      <td>0 days 00:00:00</td>\n",
       "      <td>NaN</td>\n",
       "      <td>NaN</td>\n",
       "      <td>0.000000</td>\n",
       "      <td>1.000000</td>\n",
       "      <td>0.000000</td>\n",
       "    </tr>\n",
       "    <tr>\n",
       "      <th>25%</th>\n",
       "      <td>NaN</td>\n",
       "      <td>NaN</td>\n",
       "      <td>NaN</td>\n",
       "      <td>2015-05-19 18:14:15</td>\n",
       "      <td>2015-05-19 19:53:45</td>\n",
       "      <td>0.010000</td>\n",
       "      <td>0 days 01:01:00</td>\n",
       "      <td>NaN</td>\n",
       "      <td>NaN</td>\n",
       "      <td>1.016667</td>\n",
       "      <td>139.000000</td>\n",
       "      <td>12.000000</td>\n",
       "    </tr>\n",
       "    <tr>\n",
       "      <th>50%</th>\n",
       "      <td>NaN</td>\n",
       "      <td>NaN</td>\n",
       "      <td>NaN</td>\n",
       "      <td>2015-07-13 17:20:30</td>\n",
       "      <td>2015-07-13 19:35:00</td>\n",
       "      <td>0.050000</td>\n",
       "      <td>0 days 01:34:00</td>\n",
       "      <td>NaN</td>\n",
       "      <td>NaN</td>\n",
       "      <td>1.566667</td>\n",
       "      <td>194.000000</td>\n",
       "      <td>15.000000</td>\n",
       "    </tr>\n",
       "    <tr>\n",
       "      <th>75%</th>\n",
       "      <td>NaN</td>\n",
       "      <td>NaN</td>\n",
       "      <td>NaN</td>\n",
       "      <td>2015-08-10 18:50:45</td>\n",
       "      <td>2015-08-10 20:30:00</td>\n",
       "      <td>0.400000</td>\n",
       "      <td>0 days 02:25:45</td>\n",
       "      <td>NaN</td>\n",
       "      <td>NaN</td>\n",
       "      <td>2.429167</td>\n",
       "      <td>222.000000</td>\n",
       "      <td>18.000000</td>\n",
       "    </tr>\n",
       "    <tr>\n",
       "      <th>max</th>\n",
       "      <td>NaN</td>\n",
       "      <td>NaN</td>\n",
       "      <td>NaN</td>\n",
       "      <td>2015-12-27 13:55:00</td>\n",
       "      <td>2015-12-27 18:45:00</td>\n",
       "      <td>494.000000</td>\n",
       "      <td>6 days 02:58:00</td>\n",
       "      <td>NaN</td>\n",
       "      <td>NaN</td>\n",
       "      <td>146.966667</td>\n",
       "      <td>361.000000</td>\n",
       "      <td>23.000000</td>\n",
       "    </tr>\n",
       "    <tr>\n",
       "      <th>std</th>\n",
       "      <td>NaN</td>\n",
       "      <td>NaN</td>\n",
       "      <td>NaN</td>\n",
       "      <td>NaN</td>\n",
       "      <td>NaN</td>\n",
       "      <td>12.588871</td>\n",
       "      <td>0 days 03:17:30.503843942</td>\n",
       "      <td>NaN</td>\n",
       "      <td>NaN</td>\n",
       "      <td>3.291807</td>\n",
       "      <td>64.011727</td>\n",
       "      <td>5.944823</td>\n",
       "    </tr>\n",
       "  </tbody>\n",
       "</table>\n",
       "</div>"
      ],
      "text/plain": [
       "       District       Type   TypeCause                      DateAlert  \\\n",
       "count      5310       5310        3233                           5310   \n",
       "unique        2          3           5                            NaN   \n",
       "top       Porto  Florestal  Negligente                            NaN   \n",
       "freq       3989       5046        1314                            NaN   \n",
       "mean        NaN        NaN         NaN  2015-06-28 17:59:51.446327808   \n",
       "min         NaN        NaN         NaN            2015-01-01 16:12:00   \n",
       "25%         NaN        NaN         NaN            2015-05-19 18:14:15   \n",
       "50%         NaN        NaN         NaN            2015-07-13 17:20:30   \n",
       "75%         NaN        NaN         NaN            2015-08-10 18:50:45   \n",
       "max         NaN        NaN         NaN            2015-12-27 13:55:00   \n",
       "std         NaN        NaN         NaN                            NaN   \n",
       "\n",
       "                       DateExtinction    AreaTotal               FireDuration  \\\n",
       "count                            5310  5310.000000                       5310   \n",
       "unique                            NaN          NaN                        NaN   \n",
       "top                               NaN          NaN                        NaN   \n",
       "freq                              NaN          NaN                        NaN   \n",
       "mean    2015-06-28 20:05:35.898305280     1.530223  0 days 02:05:44.451977401   \n",
       "min               2015-01-01 17:20:00     0.000100            0 days 00:00:00   \n",
       "25%               2015-05-19 19:53:45     0.010000            0 days 01:01:00   \n",
       "50%               2015-07-13 19:35:00     0.050000            0 days 01:34:00   \n",
       "75%               2015-08-10 20:30:00     0.400000            0 days 02:25:45   \n",
       "max               2015-12-27 18:45:00   494.000000            6 days 02:58:00   \n",
       "std                               NaN    12.588871  0 days 03:17:30.503843942   \n",
       "\n",
       "       DayAlert Month    HourTotal    DayOfYear    HourOfDay  \n",
       "count      5310  5310  5310.000000  5310.000000  5310.000000  \n",
       "unique        7    12          NaN          NaN          NaN  \n",
       "top      Sunday   Aug          NaN          NaN          NaN  \n",
       "freq        895  1208          NaN          NaN          NaN  \n",
       "mean        NaN   NaN     2.095681   179.132957    14.321846  \n",
       "min         NaN   NaN     0.000000     1.000000     0.000000  \n",
       "25%         NaN   NaN     1.016667   139.000000    12.000000  \n",
       "50%         NaN   NaN     1.566667   194.000000    15.000000  \n",
       "75%         NaN   NaN     2.429167   222.000000    18.000000  \n",
       "max         NaN   NaN   146.966667   361.000000    23.000000  \n",
       "std         NaN   NaN     3.291807    64.011727     5.944823  "
      ]
     },
     "execution_count": 94,
     "metadata": {},
     "output_type": "execute_result"
    }
   ],
   "source": [
    "# show statistics values for all dataset\n",
    "north.describe(include='all', datetime_is_numeric=True)"
   ]
  },
  {
   "cell_type": "markdown",
   "metadata": {},
   "source": [
    "### Main conclusions:\n",
    "  * Burned area (AreaTotal) with a mean of 1.53 ha and a median of 0.05 ha\n",
    "  * Fire Duration (FireDuation) with a mean of ~ 2 hours and a median of  ~ 1.5 hours"
   ]
  },
  {
   "cell_type": "code",
   "execution_count": 95,
   "metadata": {},
   "outputs": [
    {
     "data": {
      "image/png": "[encoded data removed]",
      "text/plain": [
       "<Figure size 1728x864 with 2 Axes>"
      ]
     },
     "metadata": {},
     "output_type": "display_data"
    }
   ],
   "source": [
    "g = sns.FacetGrid(north, col=\"District\", height= 12, hue=\"Type\")\n",
    "g.map_dataframe(sns.histplot, x=\"Type\")\n",
    "g.set_axis_labels(\"\", \"Frequency\")\n",
    "g.set_titles(col_template=\"{col_name} District\", row_template=\"{row_name}\")\n",
    "g.fig.suptitle(\"Type of Fire By District\")\n",
    "g.tight_layout();"
   ]
  },
  {
   "cell_type": "markdown",
   "metadata": {},
   "source": [
    "### Main takeway\n",
    "\n",
    "* From the Histogram analysis, both districts have the same behaviour. \n",
    "* This is a unimodal distribution with the type of fire \"Florestal\" being the most prevalent. By comparison, on national basis 67% of the fires are \"Florestal\", while for Vila Real and Porto it accouts to 97% and 95% , respectively."
   ]
  },
  {
   "cell_type": "code",
   "execution_count": 96,
   "metadata": {},
   "outputs": [
    {
     "data": {
      "image/png": "[encoded data removed]",
      "text/plain": [
       "<Figure size 1728x864 with 2 Axes>"
      ]
     },
     "metadata": {},
     "output_type": "display_data"
    }
   ],
   "source": [
    "g = sns.FacetGrid(north, col=\"District\", height= 12, hue=\"TypeCause\")\n",
    "g.map_dataframe(sns.histplot, x=\"TypeCause\")\n",
    "g.set_axis_labels(\"\", \"Frequency\")\n",
    "g.set_titles(col_template=\"{col_name} District\", row_template=\"{row_name}\")\n",
    "g.fig.suptitle(\"TypeCause of Fire By District\")\n",
    "g.tight_layout();"
   ]
  },
  {
   "cell_type": "markdown",
   "metadata": {},
   "source": [
    "### Main takeway\n",
    "\n",
    "* From the Histogram analysis, both districts have almost the same behaviour. \n",
    "* While Porto has a bimodal distribution with \"Negligente\" and \"Desconhecida\" being the most prevalent type of causes, the distribution for Vila Real is unimodal being only \"Negligente\" the most prevalent cause."
   ]
  },
  {
   "cell_type": "code",
   "execution_count": 97,
   "metadata": {},
   "outputs": [
    {
     "data": {
      "image/png": "[encoded data removed]",
      "text/plain": [
       "<Figure size 1728x864 with 2 Axes>"
      ]
     },
     "metadata": {},
     "output_type": "display_data"
    }
   ],
   "source": [
    "g = sns.FacetGrid(north, col=\"District\", height= 12, hue=\"HourOfDay\")\n",
    "g.map_dataframe(sns.histplot, x=\"HourOfDay\")\n",
    "g.set_axis_labels(\"\", \"Frequency\")\n",
    "g.set_titles(col_template=\"{col_name} District\", row_template=\"{row_name}\")\n",
    "g.fig.suptitle(\"Hour of Fire By District\")\n",
    "g.set(xticks=np.arange(0,24,1))\n",
    "g.set_xticklabels(np.arange(0,24,1))\n",
    "g.tight_layout();"
   ]
  },
  {
   "cell_type": "markdown",
   "metadata": {},
   "source": [
    "### Main takeway\n",
    "\n",
    "* From the Histogram analysis, both districts have the same behaviour. \n",
    "* This is a bimodal distribution having one pick at 00:00 and the other at 15:00 PM.\n",
    "* In terms of skewness, both distract have left skew"
   ]
  },
  {
   "cell_type": "code",
   "execution_count": 98,
   "metadata": {},
   "outputs": [
    {
     "data": {
      "image/png": "[encoded data removed]",
      "text/plain": [
       "<Figure size 1728x864 with 2 Axes>"
      ]
     },
     "metadata": {},
     "output_type": "display_data"
    }
   ],
   "source": [
    "g = sns.FacetGrid(north, col=\"District\", height= 12, hue=\"DayAlert\")\n",
    "g.map_dataframe(sns.histplot, x=\"DayAlert\")\n",
    "g.set_axis_labels(\"\", \"Frequency\")\n",
    "g.set_titles(col_template=\"{col_name} District\", row_template=\"{row_name}\")\n",
    "g.fig.suptitle(\"DayAlert of Fire By District\")\n",
    "\n",
    "g.tight_layout();"
   ]
  },
  {
   "cell_type": "markdown",
   "metadata": {},
   "source": [
    "### Main takeway\n",
    "\n",
    "* From the Histogram analysis, both districts have the same behaviour. \n",
    "* This is a uniform distribution. However, the weekend has a higher frequency of alerts"
   ]
  },
  {
   "cell_type": "code",
   "execution_count": 150,
   "metadata": {},
   "outputs": [
    {
     "data": {
      "image/png": "[encoded data removed]",
      "text/plain": [
       "<Figure size 1728x864 with 2 Axes>"
      ]
     },
     "metadata": {},
     "output_type": "display_data"
    }
   ],
   "source": [
    "g = sns.FacetGrid(north, col=\"District\", height= 12, hue=\"Month\")\n",
    "g.map_dataframe(sns.histplot, x=\"Month\")\n",
    "g.set_axis_labels(\"\", \"Frequency\")\n",
    "g.set_titles(col_template=\"{col_name} District\", row_template=\"{row_name}\")\n",
    "g.fig.suptitle(\"Month of Fire By District\")\n",
    "\n",
    "g.tight_layout();"
   ]
  },
  {
   "cell_type": "markdown",
   "metadata": {},
   "source": [
    "### Main takeway\n",
    "\n",
    "* From the Histogram analysis, both districts have the same behaviour. \n",
    "* This is a bimodal distribution having one pick at March-April and the other at June-August\n",
    "* In terms of skewness, both distract have left skew"
   ]
  },
  {
   "cell_type": "code",
   "execution_count": 100,
   "metadata": {},
   "outputs": [
    {
     "data": {
      "image/png": "[encoded data removed]",
      "text/plain": [
       "<Figure size 1728x864 with 2 Axes>"
      ]
     },
     "metadata": {},
     "output_type": "display_data"
    }
   ],
   "source": [
    "g = sns.FacetGrid(north, col=\"District\", height= 12, hue=\"DayOfYear\")\n",
    "g.map_dataframe(sns.histplot, x=\"DayOfYear\")\n",
    "g.set_axis_labels(\"\", \"Frequency\")\n",
    "g.set_titles(col_template=\"{col_name} District\", row_template=\"{row_name}\")\n",
    "g.fig.suptitle(\"DayOfYear of Fire By District\")\n",
    "g.set(xticks=np.arange(0,366,90))\n",
    "g.set_xticklabels(np.arange(0,366,90))\n",
    "g.tight_layout();"
   ]
  },
  {
   "cell_type": "code",
   "execution_count": 117,
   "metadata": {},
   "outputs": [
    {
     "data": {
      "text/plain": [
       "District\n",
       "Porto        2540.0338\n",
       "Vila Real    5585.4480\n",
       "Name: AreaTotal, dtype: float64"
      ]
     },
     "metadata": {},
     "output_type": "display_data"
    }
   ],
   "source": [
    "burnArea = north.groupby('District')['AreaTotal'].agg('sum')\n",
    "\n",
    "display(burnArea)"
   ]
  },
  {
   "cell_type": "code",
   "execution_count": 118,
   "metadata": {},
   "outputs": [
    {
     "data": {
      "text/html": [
       "<div>\n",
       "<style scoped>\n",
       "    .dataframe tbody tr th:only-of-type {\n",
       "        vertical-align: middle;\n",
       "    }\n",
       "\n",
       "    .dataframe tbody tr th {\n",
       "        vertical-align: top;\n",
       "    }\n",
       "\n",
       "    .dataframe thead th {\n",
       "        text-align: right;\n",
       "    }\n",
       "</style>\n",
       "<table border=\"1\" class=\"dataframe\">\n",
       "  <thead>\n",
       "    <tr style=\"text-align: right;\">\n",
       "      <th></th>\n",
       "      <th>District</th>\n",
       "      <th>Type</th>\n",
       "      <th>totalArea</th>\n",
       "    </tr>\n",
       "  </thead>\n",
       "  <tbody>\n",
       "    <tr>\n",
       "      <th>0</th>\n",
       "      <td>Porto</td>\n",
       "      <td>Agrícola</td>\n",
       "      <td>18.4295</td>\n",
       "    </tr>\n",
       "    <tr>\n",
       "      <th>1</th>\n",
       "      <td>Porto</td>\n",
       "      <td>Florestal</td>\n",
       "      <td>2521.5383</td>\n",
       "    </tr>\n",
       "    <tr>\n",
       "      <th>2</th>\n",
       "      <td>Porto</td>\n",
       "      <td>Queimada</td>\n",
       "      <td>0.0660</td>\n",
       "    </tr>\n",
       "    <tr>\n",
       "      <th>3</th>\n",
       "      <td>Vila Real</td>\n",
       "      <td>Agrícola</td>\n",
       "      <td>8.6800</td>\n",
       "    </tr>\n",
       "    <tr>\n",
       "      <th>4</th>\n",
       "      <td>Vila Real</td>\n",
       "      <td>Florestal</td>\n",
       "      <td>5573.1420</td>\n",
       "    </tr>\n",
       "    <tr>\n",
       "      <th>5</th>\n",
       "      <td>Vila Real</td>\n",
       "      <td>Queimada</td>\n",
       "      <td>3.6260</td>\n",
       "    </tr>\n",
       "  </tbody>\n",
       "</table>\n",
       "</div>"
      ],
      "text/plain": [
       "    District       Type  totalArea\n",
       "0      Porto   Agrícola    18.4295\n",
       "1      Porto  Florestal  2521.5383\n",
       "2      Porto   Queimada     0.0660\n",
       "3  Vila Real   Agrícola     8.6800\n",
       "4  Vila Real  Florestal  5573.1420\n",
       "5  Vila Real   Queimada     3.6260"
      ]
     },
     "execution_count": 118,
     "metadata": {},
     "output_type": "execute_result"
    }
   ],
   "source": [
    "burnAreaType = north.query('AreaTotal > 0').groupby(['District','Type'])['AreaTotal'].sum().reset_index(name='totalArea')\n",
    "burnAreaType"
   ]
  },
  {
   "cell_type": "code",
   "execution_count": 119,
   "metadata": {},
   "outputs": [
    {
     "data": {
      "image/png": "[encoded data removed]",
      "text/plain": [
       "<Figure size 864x432 with 1 Axes>"
      ]
     },
     "metadata": {},
     "output_type": "display_data"
    }
   ],
   "source": [
    "burnAreaT = north.query('AreaTotal > 0').groupby('District')['AreaTotal'].sum().reset_index(name='totalArea')\n",
    "\n",
    "sns.barplot(x=\"District\", y='totalArea', data=burnAreaT);"
   ]
  },
  {
   "cell_type": "markdown",
   "metadata": {},
   "source": [
    "### Main takeway\n",
    "\n",
    "* 1...\n",
    "* 2..."
   ]
  },
  {
   "cell_type": "code",
   "execution_count": 120,
   "metadata": {},
   "outputs": [
    {
     "data": {
      "text/plain": [
       "District\n",
       "Porto        3989\n",
       "Vila Real    1321\n",
       "Name: Type, dtype: int64"
      ]
     },
     "execution_count": 120,
     "metadata": {},
     "output_type": "execute_result"
    }
   ],
   "source": [
    "# Group by stats for burned area group by distrito\n",
    "north.groupby(by=\"District\")['Type'].agg('count')"
   ]
  },
  {
   "cell_type": "code",
   "execution_count": 121,
   "metadata": {},
   "outputs": [
    {
     "data": {
      "text/html": [
       "<div>\n",
       "<style scoped>\n",
       "    .dataframe tbody tr th:only-of-type {\n",
       "        vertical-align: middle;\n",
       "    }\n",
       "\n",
       "    .dataframe tbody tr th {\n",
       "        vertical-align: top;\n",
       "    }\n",
       "\n",
       "    .dataframe thead th {\n",
       "        text-align: right;\n",
       "    }\n",
       "</style>\n",
       "<table border=\"1\" class=\"dataframe\">\n",
       "  <thead>\n",
       "    <tr style=\"text-align: right;\">\n",
       "      <th></th>\n",
       "      <th>count</th>\n",
       "      <th>mean</th>\n",
       "      <th>std</th>\n",
       "      <th>min</th>\n",
       "      <th>25%</th>\n",
       "      <th>50%</th>\n",
       "      <th>75%</th>\n",
       "      <th>max</th>\n",
       "    </tr>\n",
       "    <tr>\n",
       "      <th>District</th>\n",
       "      <th></th>\n",
       "      <th></th>\n",
       "      <th></th>\n",
       "      <th></th>\n",
       "      <th></th>\n",
       "      <th></th>\n",
       "      <th></th>\n",
       "      <th></th>\n",
       "    </tr>\n",
       "  </thead>\n",
       "  <tbody>\n",
       "    <tr>\n",
       "      <th>Porto</th>\n",
       "      <td>3989.0</td>\n",
       "      <td>0.636760</td>\n",
       "      <td>4.943955</td>\n",
       "      <td>0.0001</td>\n",
       "      <td>0.01</td>\n",
       "      <td>0.05</td>\n",
       "      <td>0.2</td>\n",
       "      <td>188.4</td>\n",
       "    </tr>\n",
       "    <tr>\n",
       "      <th>Vila Real</th>\n",
       "      <td>1321.0</td>\n",
       "      <td>4.228197</td>\n",
       "      <td>23.534165</td>\n",
       "      <td>0.0001</td>\n",
       "      <td>0.02</td>\n",
       "      <td>0.50</td>\n",
       "      <td>2.0</td>\n",
       "      <td>494.0</td>\n",
       "    </tr>\n",
       "  </tbody>\n",
       "</table>\n",
       "</div>"
      ],
      "text/plain": [
       "            count      mean        std     min   25%   50%  75%    max\n",
       "District                                                              \n",
       "Porto      3989.0  0.636760   4.943955  0.0001  0.01  0.05  0.2  188.4\n",
       "Vila Real  1321.0  4.228197  23.534165  0.0001  0.02  0.50  2.0  494.0"
      ]
     },
     "execution_count": 121,
     "metadata": {},
     "output_type": "execute_result"
    }
   ],
   "source": [
    "# group by stats for burned area group by distrito\n",
    "north.groupby(by=\"District\")['AreaTotal'].describe()"
   ]
  },
  {
   "cell_type": "markdown",
   "metadata": {},
   "source": [
    "### Main Take Aways - Burned Area\n",
    "  - Porto has a mean burned area of 0.64ha with a median of 0.05ha \n",
    "  - Vila Real has a mean burned area of 4.22 ha with a median of 0.50ha \n",
    "  - While Vila Real has a burned area 4 times larger than Porto although Porto has the triple of fire incidentes of Vila Real"
   ]
  },
  {
   "cell_type": "code",
   "execution_count": 122,
   "metadata": {},
   "outputs": [
    {
     "data": {
      "text/html": [
       "<div>\n",
       "<style scoped>\n",
       "    .dataframe tbody tr th:only-of-type {\n",
       "        vertical-align: middle;\n",
       "    }\n",
       "\n",
       "    .dataframe tbody tr th {\n",
       "        vertical-align: top;\n",
       "    }\n",
       "\n",
       "    .dataframe thead th {\n",
       "        text-align: right;\n",
       "    }\n",
       "</style>\n",
       "<table border=\"1\" class=\"dataframe\">\n",
       "  <thead>\n",
       "    <tr style=\"text-align: right;\">\n",
       "      <th></th>\n",
       "      <th>count</th>\n",
       "      <th>mean</th>\n",
       "      <th>std</th>\n",
       "      <th>min</th>\n",
       "      <th>25%</th>\n",
       "      <th>50%</th>\n",
       "      <th>75%</th>\n",
       "      <th>max</th>\n",
       "    </tr>\n",
       "    <tr>\n",
       "      <th>District</th>\n",
       "      <th></th>\n",
       "      <th></th>\n",
       "      <th></th>\n",
       "      <th></th>\n",
       "      <th></th>\n",
       "      <th></th>\n",
       "      <th></th>\n",
       "      <th></th>\n",
       "    </tr>\n",
       "  </thead>\n",
       "  <tbody>\n",
       "    <tr>\n",
       "      <th>Porto</th>\n",
       "      <td>3989.0</td>\n",
       "      <td>1.829001</td>\n",
       "      <td>2.743295</td>\n",
       "      <td>0.000000</td>\n",
       "      <td>1.000000</td>\n",
       "      <td>1.50</td>\n",
       "      <td>2.233333</td>\n",
       "      <td>146.966667</td>\n",
       "    </tr>\n",
       "    <tr>\n",
       "      <th>Vila Real</th>\n",
       "      <td>1321.0</td>\n",
       "      <td>2.900971</td>\n",
       "      <td>4.470066</td>\n",
       "      <td>0.166667</td>\n",
       "      <td>1.166667</td>\n",
       "      <td>1.95</td>\n",
       "      <td>3.183333</td>\n",
       "      <td>96.316667</td>\n",
       "    </tr>\n",
       "  </tbody>\n",
       "</table>\n",
       "</div>"
      ],
      "text/plain": [
       "            count      mean       std       min       25%   50%       75%  \\\n",
       "District                                                                    \n",
       "Porto      3989.0  1.829001  2.743295  0.000000  1.000000  1.50  2.233333   \n",
       "Vila Real  1321.0  2.900971  4.470066  0.166667  1.166667  1.95  3.183333   \n",
       "\n",
       "                  max  \n",
       "District               \n",
       "Porto      146.966667  \n",
       "Vila Real   96.316667  "
      ]
     },
     "execution_count": 122,
     "metadata": {},
     "output_type": "execute_result"
    }
   ],
   "source": [
    "# group by stats for Fire Duration in hours group by distrito\n",
    "north.groupby(by=\"District\")['HourTotal'].describe()"
   ]
  },
  {
   "cell_type": "markdown",
   "metadata": {},
   "source": [
    "### Main Take Aways - Fire Duration:\n",
    "  - Porto has a mean fire duration of 1.83 hours with a median of 1.5 hours\n",
    "  - Vila Real has a mean fires duration of 2.9 hours with a median of 1.95 hours\n",
    "  - Besides the previous results, it seems like theres no significant difference in Fire Durations in both locations."
   ]
  },
  {
   "cell_type": "markdown",
   "metadata": {},
   "source": [
    "# 4. Draw Inferences\n",
    "\n",
    "## Question: The mean Burned Area in Vila Real is significantly greater than in Porto?"
   ]
  },
  {
   "cell_type": "code",
   "execution_count": 130,
   "metadata": {},
   "outputs": [
    {
     "name": "stdout",
     "output_type": "stream",
     "text": [
      "Porto variance:  24.44\n",
      "Vila Real variance:  553.44\n",
      "Variance ratio:  22.65\n"
     ]
    }
   ],
   "source": [
    "porto = north[north['District'] == 'Porto']\n",
    "vila  = north[north['District'] == 'Vila Real']\n",
    "\n",
    "Aporto = porto.AreaTotal.values\n",
    "Avila  = vila.AreaTotal.values\n",
    "print('Porto variance: ',round(np.var(Aporto),2))\n",
    "print('Vila Real variance: ',round(np.var(Avila),2))\n",
    "\n",
    "print('Variance ratio: ',\n",
    "    round(max(np.var(Aporto), np.var(Avila)) / min(np.var(Aporto), np.var(Avila)),2))"
   ]
  },
  {
   "cell_type": "code",
   "execution_count": 131,
   "metadata": {},
   "outputs": [
    {
     "data": {
      "text/plain": [
       "Ttest_indResult(statistic=-9.055359233595215, pvalue=1.8765695032567563e-19)"
      ]
     },
     "execution_count": 131,
     "metadata": {},
     "output_type": "execute_result"
    }
   ],
   "source": [
    "#perform two sample t-test with equal variances\n",
    "stats.ttest_ind(a=Aporto, b=Avila, equal_var=True)"
   ]
  },
  {
   "cell_type": "markdown",
   "metadata": {},
   "source": [
    "Note: \n",
    "\t\n",
    "\tHere, the ratio is bigger than 4:1. We will carry out the T-Test with outher method.\n",
    "\t\n",
    "\t\n",
    "\n",
    "### Method 2: Two-Sample T-Test with Pingouin\n",
    "\n",
    "Pingouin is a statistical-type package project that is based on Pandas and NumPy. Pingouin provides a wide range of features. The package is used to conduct the T-Test but also for computing the degree of freedoms, Bayers factor, etc.\n",
    "\n",
    "Firstly, let’s create the sample data. We are creating two arrays and now let’s perform two sample T-Test. For this purpose, we have ttest() function in the pingouin package of Python."
   ]
  },
  {
   "cell_type": "code",
   "execution_count": 134,
   "metadata": {},
   "outputs": [
    {
     "name": "stdout",
     "output_type": "stream",
     "text": [
      "               T          dof alternative         p-val           CI95%  \\\n",
      "T-test -5.506433  1358.768711   two-sided  4.373289e-08  [-4.87, -2.31]   \n",
      "\n",
      "         cohen-d       BF10  power  \n",
      "T-test  0.287455  1.243e+05    1.0  \n"
     ]
    }
   ],
   "source": [
    "#perform two sample t-test with equal variances\n",
    "result = pg.ttest(Aporto, Avila, correction=True)\n",
    "\n",
    "# Print the result\n",
    "print(result)"
   ]
  },
  {
   "cell_type": "markdown",
   "metadata": {},
   "source": [
    "## Question --- Are the percentage of burned forest wildfires are equal in both districts"
   ]
  },
  {
   "cell_type": "code",
   "execution_count": 144,
   "metadata": {},
   "outputs": [
    {
     "data": {
      "text/html": [
       "<div>\n",
       "<style scoped>\n",
       "    .dataframe tbody tr th:only-of-type {\n",
       "        vertical-align: middle;\n",
       "    }\n",
       "\n",
       "    .dataframe tbody tr th {\n",
       "        vertical-align: top;\n",
       "    }\n",
       "\n",
       "    .dataframe thead th {\n",
       "        text-align: right;\n",
       "    }\n",
       "</style>\n",
       "<table border=\"1\" class=\"dataframe\">\n",
       "  <thead>\n",
       "    <tr style=\"text-align: right;\">\n",
       "      <th></th>\n",
       "      <th>is_florestal</th>\n",
       "      <th>Porto</th>\n",
       "      <th>Vila</th>\n",
       "      <th>Total</th>\n",
       "    </tr>\n",
       "  </thead>\n",
       "  <tbody>\n",
       "    <tr>\n",
       "      <th>0</th>\n",
       "      <td>True</td>\n",
       "      <td>3771</td>\n",
       "      <td>1275</td>\n",
       "      <td>5046</td>\n",
       "    </tr>\n",
       "    <tr>\n",
       "      <th>1</th>\n",
       "      <td>False</td>\n",
       "      <td>218</td>\n",
       "      <td>46</td>\n",
       "      <td>264</td>\n",
       "    </tr>\n",
       "    <tr>\n",
       "      <th>2</th>\n",
       "      <td>Total</td>\n",
       "      <td>3989</td>\n",
       "      <td>1321</td>\n",
       "      <td>5310</td>\n",
       "    </tr>\n",
       "  </tbody>\n",
       "</table>\n",
       "</div>"
      ],
      "text/plain": [
       "  is_florestal  Porto  Vila  Total\n",
       "0         True   3771  1275   5046\n",
       "1        False    218    46    264\n",
       "2        Total   3989  1321   5310"
      ]
     },
     "metadata": {},
     "output_type": "display_data"
    }
   ],
   "source": [
    "#Inference Qualitaty\n",
    "\n",
    "\n",
    "FPorto  = porto[porto.Type == 'Florestal'].shape[0]\n",
    "FVila   = vila[vila.Type   == 'Florestal'].shape[0]\n",
    "Forrest = north[north.Type == 'Florestal'].shape[0]\n",
    "\n",
    "NPorto   = porto[porto.Type != 'Florestal'].shape[0]\n",
    "NVila    = vila[vila.Type   != 'Florestal'].shape[0]\n",
    "NForrest = north[north.Type != 'Florestal'].shape[0]\n",
    "\n",
    "\n",
    "nPorto = FPorto + NPorto\n",
    "nVReal = FVila + NVila\n",
    "nTotal = Forrest + NForrest\n",
    "\n",
    "header = ['is_florestal', 'Porto', 'Vila', 'Total']\n",
    "data = [\n",
    "  [True, FPorto, FVila, Forrest],\n",
    "  [False, NPorto, NVila, NForrest],\n",
    "  ['Total', nPorto, nVReal, nTotal],\n",
    "]\n",
    "\n",
    "forrest_df = pd.DataFrame(columns=header, data=data)\n",
    "display(forrest_df)"
   ]
  },
  {
   "cell_type": "markdown",
   "metadata": {},
   "source": [
    "# Testing the null hypothesis\n",
    "\n",
    "H0: Percentage of burned forest wildfires are equal in both districts\n",
    "\n",
    "\\begin{equation}\n",
    "\\hat{p} Porto - \\hat{p} Vila Real = 0\n",
    "\\end{equation}\n",
    "\n",
    "HA: Percentage of burned forest wildfires are larger in the Porto than in the Vila Real\n",
    "\n",
    "\\begin{equation}\n",
    "\\hat{p} Porto - \\hat{p} Vila Real > 0\n",
    "\\end{equation}\n",
    "\n",
    "\n",
    "𝑝̂ 0=# 𝑜𝑓 𝑠𝑢𝑐𝑐𝑒𝑠𝑠𝑒𝑠1+# 𝑜𝑓 𝑠𝑢𝑐𝑐𝑒𝑠𝑠𝑒𝑠2𝑛1+𝑛2/ n1+n2\n"
   ]
  },
  {
   "cell_type": "code",
   "execution_count": 146,
   "metadata": {},
   "outputs": [
    {
     "name": "stdout",
     "output_type": "stream",
     "text": [
      "The pooled estimate of percentage of forest fires (Both Districts) is 95.0%\n"
     ]
    }
   ],
   "source": [
    "# The pooled estimate of a proportion is presented in slide 22 of chp6_2p.pdf from the references\n",
    "pTotal = Forrest/ nTotal\n",
    "print(f'The pooled estimate of percentage of forest fires (Both Districts) is {round(pTotal*100,1)}%')"
   ]
  },
  {
   "cell_type": "markdown",
   "metadata": {},
   "source": [
    "**Compute** the test statistics **texto em negrito**\n",
    "\n",
    "𝑍=(𝑝̂ Porto−𝑝̂ VReal)/(SQRoot(𝑝̂0(1−𝑝̂0)(1/𝑛Porto+1/𝑛VReal))"
   ]
  },
  {
   "cell_type": "code",
   "execution_count": 147,
   "metadata": {},
   "outputs": [
    {
     "name": "stdout",
     "output_type": "stream",
     "text": [
      "94.5% of the fires in the Porto are Forest Wildfires\n",
      "96.5% of the fires in the Vila Real are Forest Wildfires\n"
     ]
    }
   ],
   "source": [
    "# Calculating the proportions:\n",
    "\n",
    "pPorto = FPorto / nPorto\n",
    "pVReal = FVila / nVReal\n",
    "\n",
    "\n",
    "print(f'{round(pPorto*100,1)}% of the fires in the Porto are Forest Wildfires')\n",
    "print(f'{round(pVReal*100,1)}% of the fires in the Vila Real are Forest Wildfires')"
   ]
  },
  {
   "cell_type": "code",
   "execution_count": 148,
   "metadata": {},
   "outputs": [
    {
     "name": "stdout",
     "output_type": "stream",
     "text": [
      "The test statistic of the difference of proportions is -2.873677565894065\n"
     ]
    }
   ],
   "source": [
    "# The test statistics of a difference of proportions is presented in slide 24 of chp6_2p.pdf from the references\n",
    "\n",
    "Z = (pPorto - pVReal )/(sqrt(pTotal*(1-pTotal)*(1/nPorto + 1/nVReal)))\n",
    "\n",
    "print(f'The test statistic of the difference of proportions is {Z}')"
   ]
  },
  {
   "cell_type": "code",
   "execution_count": 149,
   "metadata": {},
   "outputs": [
    {
     "name": "stdout",
     "output_type": "stream",
     "text": [
      "p-value = 2 * P(Z < -2.873678):\n"
     ]
    },
    {
     "data": {
      "text/plain": [
       "0.004057229369836075"
      ]
     },
     "metadata": {},
     "output_type": "display_data"
    }
   ],
   "source": [
    "#Compute the p-value \n",
    "\n",
    "print(f'p-value = 2 * P(Z < {round(Z,6)}):')\n",
    "\n",
    "p_value = stats.norm.cdf(Z)*2 #twosided\n",
    "\n",
    "display(p_value)"
   ]
  }
 ],
 "metadata": {
  "kernelspec": {
   "display_name": "Python 3.9.7 ('base')",
   "language": "python",
   "name": "python3"
  },
  "language_info": {
   "codemirror_mode": {
    "name": "ipython",
    "version": 3
   },
   "file_extension": ".py",
   "mimetype": "text/x-python",
   "name": "python",
   "nbconvert_exporter": "python",
   "pygments_lexer": "ipython3",
   "version": "3.9.7"
  },
  "orig_nbformat": 4,
  "vscode": {
   "interpreter": {
    "hash": "3cdc2136a0c3ff6ee581d9355ebf305035e9e0ffdb59b37da8e4674310bf0233"
   }
  }
 },
 "nbformat": 4,
 "nbformat_minor": 2
}
