{
 "cells": [
  {
   "cell_type": "code",
   "execution_count": null,
   "metadata": {},
   "outputs": [],
   "source": [
    "# data manipulation\n",
    "import pandas as pd\n",
    "import numpy as np\n",
    "from datetime import timezone, timedelta, time, datetime\n",
    "from math import sqrt\n",
    "\n",
    "# stats liibs\n",
    "from scipy import stats\n",
    "from scipy.stats import pearsonr\n",
    "from matplotlib.projections import process_projection_requirements\n",
    "\n",
    "# data viz\n",
    "import matplotlib.pyplot as plt\n",
    "from matplotlib import rcParams\n",
    "import seaborn as sns\n",
    "\n",
    "# apply some cool styling\n",
    "plt.style.use(\"seaborn-darkgrid\")\n",
    "rcParams['figure.figsize'] = (12,  6)\n",
    "sns.set(font_scale=1.5)\n",
    "\n",
    "# make reproducible\n",
    "np.random.seed(42)\n",
    "\n",
    "# Creating Categorical Ordered\n",
    "from pandas.api.types import CategoricalDtype\n",
    "month_type = CategoricalDtype(categories=['Jan', 'Feb','Mar', 'Apr','May', 'Jun', 'Jul', 'Aug', 'Sep','Oct', 'Nov', 'Dec'], ordered=True)\n",
    "day_type = CategoricalDtype(categories=['Monday','Tuesday', 'Wednesday', 'Thursday', 'Friday', 'Saturday', 'Sunday'], ordered=True)\n",
    "\n",
    "# dataset\n",
    "wildfire = 'https://bit.ly/3fVhoGZ'\n",
    "\n",
    "# Portugal Districts\n",
    "# Center   = ['Castelo Branco', 'Viseu', 'Guarda', 'Aveiro', 'Coimbra', 'Leiria']\n",
    "# Algarve  = ['Faro']\n",
    "# Alentejo = ['Évora', 'Beja', 'Portalegre', 'Santarém']\n",
    "# Lisbon   = ['Lisboa', 'Setúbal']\n",
    "# Northen  = ['Viana Do Castelo', 'Porto', 'Braga', 'Vila Real', 'Bragança']\n",
    "\n",
    "North    = ['Porto', 'Vila Real']"
   ]
  },
  {
   "cell_type": "markdown",
   "metadata": {},
   "source": [
    "# Six-Step Statistical Investigation Method\n",
    "\n",
    "* Define|Ask a Research Question\n",
    "* Design a study and collect Data (Step will be skipped)\n",
    "* Explore the Data\n",
    "* Draw inferences\n",
    "* Formulate Conclusions\n",
    "* Look back & ahead\n",
    "\n",
    "## 1. Define|Ask a Research Question\n",
    "\n",
    "### Do the Porto and Vila Real Districts have the same characteristics regarding Fire Typology, Fire Causes, Temporal Incidence (Weekday and Month), Fire Duration and Burnt Area?\n",
    "\n",
    "### Variables to be used: \n",
    "\n",
    "    * Qualitative Variables (Categorical data): \n",
    "        - Tipo: wildfire type: “Florestal, Agrícola, Falso Alarme, Queimada” \n",
    "        - Distrito: Administrative areas \n",
    "        - TipoCausa: Source – “Intencional, Natural, Negligente, Desconhecida, Reacendimento, NULL” \n",
    "\n",
    "    * Quantitative Variables (Numerical data) \n",
    "        - DataAlerta: Communication date \n",
    "        - HoraAlerta: Communication hour \n",
    "        - DataExtinção: Extinction date \n",
    "        - HoraExtinção: Extinction hour \n",
    "        - AA_Total (pov+mato+agric) (ha): Total burned area \n",
    "\n"
   ]
  },
  {
   "cell_type": "markdown",
   "metadata": {},
   "source": [
    "## 2. Explore the Data (Data Cleaning & Filtering)"
   ]
  },
  {
   "cell_type": "code",
   "execution_count": null,
   "metadata": {},
   "outputs": [],
   "source": [
    "# Load dataset\n",
    "df = pd.read_csv(wildfire, sep=';')\n",
    "df.head()"
   ]
  },
  {
   "cell_type": "code",
   "execution_count": null,
   "metadata": {},
   "outputs": [],
   "source": [
    "# Inspecting dataset colunms name\n",
    "df.columns"
   ]
  },
  {
   "cell_type": "code",
   "execution_count": null,
   "metadata": {},
   "outputs": [],
   "source": [
    "# Inspecting colunms with null values\n",
    "display(df[df.columns[df.isnull().any()]].isnull().sum(axis=0))"
   ]
  },
  {
   "cell_type": "code",
   "execution_count": null,
   "metadata": {},
   "outputs": [],
   "source": [
    "# Inspecting dataset shape\n",
    "print(f'The dataset has {df.shape[0]} rows and {df.shape[1]} columns. ')"
   ]
  },
  {
   "cell_type": "code",
   "execution_count": null,
   "metadata": {},
   "outputs": [],
   "source": [
    "# Inspecting columns datatype\n",
    "df[['DataAlerta','HoraAlerta', 'DataExtincao', 'HoraExtincao']].dtypes"
   ]
  },
  {
   "cell_type": "code",
   "execution_count": null,
   "metadata": {},
   "outputs": [],
   "source": [
    "# Converting Date Columens to datetime\n",
    "df['DAlert'] = df['DataAlerta'].str[:10].astype(str) + ' ' + df['HoraAlerta'].astype(str)\n",
    "df['DExtiction'] = df['DataExtincao'].str[:10].astype(str) + ' ' + df['HoraExtincao'].astype(str)\n",
    "\n",
    "df[['DAlert', 'DExtiction']] = df[['DAlert', 'DExtiction']].apply(pd.to_datetime, errors='coerce')\n",
    "\n",
    "# Inspecting columns datatype\n",
    "print(df[['DAlert', 'DExtiction']].dtypes)\n",
    "\n",
    "# Inspecting first rows\n",
    "df[['DAlert', 'DExtiction']].head()"
   ]
  },
  {
   "cell_type": "code",
   "execution_count": null,
   "metadata": {},
   "outputs": [],
   "source": [
    "# Columns for analysis\n",
    "columns = ['Distrito','Tipo', 'TipoCausa', 'DAlert','DExtiction','AA_Total (pov+mato+agric) (ha)']\n",
    "names   = ['District','Type', 'TypeCause', 'DateAlert', 'DateExtinction','AreaTotal']\n",
    "\n",
    "# Filter the dataset\n",
    "filtered = df[columns].query('Distrito in @North')\n",
    "\n",
    "# Reset & drop Indexes\n",
    "filtered.reset_index(inplace=True, drop=True)\n",
    "\n",
    "# Renaming columns\n",
    "filtered.columns = names\n",
    "filtered.head()"
   ]
  },
  {
   "cell_type": "code",
   "execution_count": null,
   "metadata": {},
   "outputs": [],
   "source": [
    "filtered.Type.unique()"
   ]
  },
  {
   "cell_type": "code",
   "execution_count": null,
   "metadata": {},
   "outputs": [],
   "source": [
    "# Inspecting Type of Fire\n",
    "display(filtered.Type.value_counts(normalize=True))"
   ]
  },
  {
   "cell_type": "code",
   "execution_count": null,
   "metadata": {},
   "outputs": [],
   "source": [
    "# Inspecting new dataset shape\n",
    "print(f'The dataset has {filtered.shape[0]} rows and {filtered.shape[1]} columns. ')\n",
    "print(f'Filtered dataframe accounts for {round(filtered.shape[0]/df.shape[0]*100, 2)}% of source')"
   ]
  },
  {
   "cell_type": "code",
   "execution_count": null,
   "metadata": {},
   "outputs": [],
   "source": [
    "# Inspecting colunms with null values\n",
    "display(filtered[filtered.columns[filtered.isnull().any()]].isnull().sum(axis=0))"
   ]
  },
  {
   "cell_type": "code",
   "execution_count": null,
   "metadata": {},
   "outputs": [],
   "source": [
    "# Inspecting whether the date of Alert is greater that Extinction\n",
    "display(filtered[(filtered.DateAlert > filtered.DateExtinction) == True])"
   ]
  },
  {
   "cell_type": "code",
   "execution_count": null,
   "metadata": {},
   "outputs": [],
   "source": [
    "# Removing rows where date of Alert is greater that Extinction\n",
    "filtered = filtered[(filtered.DateAlert > filtered.DateExtinction) == False].copy(deep=True)\n",
    "display(filtered[(filtered.DateAlert > filtered.DateExtinction) == True])"
   ]
  },
  {
   "cell_type": "code",
   "execution_count": null,
   "metadata": {},
   "outputs": [],
   "source": [
    "# Calculating time of fire and getting day of week\n",
    "\n",
    "filtered['FireDuration']   = filtered.DateExtinction - filtered.DateAlert\n",
    "filtered['DayAlert']       = filtered.DateAlert.dt.day_name()\n",
    "filtered['Month']          = filtered.DateExtinction.dt.month_name().str[:3]\n",
    "filtered['HourTotal']      = filtered.FireDuration / pd.Timedelta(1, 'h')\n",
    "filtered['DayOfYear']      = filtered.DateAlert.dt.day_of_year\n",
    "filtered['HourOfDay']      = filtered.DateAlert.dt.hour\n",
    "\n",
    "# Converting datatypes\n",
    "filtered['AreaTotal'] = filtered['AreaTotal'].str.replace(',', '.').astype('float')\n",
    "filtered['Month'] = filtered['Month'].astype(month_type)\n",
    "filtered['DayAlert'] = filtered['DayAlert'].astype(day_type)\n",
    "\n"
   ]
  },
  {
   "cell_type": "code",
   "execution_count": null,
   "metadata": {},
   "outputs": [],
   "source": [
    "filtered.head()"
   ]
  },
  {
   "cell_type": "code",
   "execution_count": null,
   "metadata": {},
   "outputs": [],
   "source": [
    "print(\"TypeCause  Numbers\")\n",
    "display(filtered.TypeCause.value_counts(dropna=False, ascending=False, normalize=True))\n",
    "print(\"Type Numbers\")\n",
    "display(filtered.Type.value_counts(dropna=False, ascending=False, normalize=True))\n"
   ]
  },
  {
   "cell_type": "code",
   "execution_count": null,
   "metadata": {},
   "outputs": [],
   "source": [
    "g = sns.FacetGrid(filtered, col=\"District\", height= 12, hue=\"Type\")\n",
    "g.map_dataframe(sns.histplot, x=\"Type\")\n",
    "g.set_axis_labels(\"\", \"Frequency\")\n",
    "g.set_titles(col_template=\"{col_name} District\", row_template=\"{row_name}\")\n",
    "g.fig.suptitle(\"Type of Fire By District\")\n",
    "g.tight_layout();"
   ]
  },
  {
   "cell_type": "code",
   "execution_count": null,
   "metadata": {},
   "outputs": [],
   "source": [
    "g = sns.FacetGrid(filtered, col=\"District\", height= 12, hue=\"TypeCause\")\n",
    "g.map_dataframe(sns.histplot, x=\"TypeCause\")\n",
    "g.set_axis_labels(\"\", \"Frequency\")\n",
    "g.set_titles(col_template=\"{col_name} District\", row_template=\"{row_name}\")\n",
    "g.fig.suptitle(\"TypeCause of Fire By District\")\n",
    "g.tight_layout();"
   ]
  },
  {
   "cell_type": "code",
   "execution_count": null,
   "metadata": {},
   "outputs": [],
   "source": [
    "g = sns.FacetGrid(filtered, col=\"District\", height= 12, hue=\"HourOfDay\")\n",
    "g.map_dataframe(sns.histplot, x=\"HourOfDay\")\n",
    "g.set_axis_labels(\"\", \"Frequency\")\n",
    "g.set_titles(col_template=\"{col_name} District\", row_template=\"{row_name}\")\n",
    "g.fig.suptitle(\"Hour of Fire By District\")\n",
    "g.set(xticks=np.arange(0,24,1))\n",
    "g.set_xticklabels(np.arange(0,24,1))\n",
    "g.tight_layout();"
   ]
  },
  {
   "cell_type": "code",
   "execution_count": null,
   "metadata": {},
   "outputs": [],
   "source": [
    "g = sns.FacetGrid(filtered, col=\"District\", height= 12, hue=\"DayAlert\")\n",
    "g.map_dataframe(sns.histplot, x=\"DayAlert\")\n",
    "g.set_axis_labels(\"\", \"Frequency\")\n",
    "g.set_titles(col_template=\"{col_name} District\", row_template=\"{row_name}\")\n",
    "g.fig.suptitle(\"DayAlert of Fire By District\")\n",
    "\n",
    "g.tight_layout();"
   ]
  },
  {
   "cell_type": "code",
   "execution_count": null,
   "metadata": {},
   "outputs": [],
   "source": [
    "g = sns.FacetGrid(filtered, col=\"District\", height= 12, hue=\"Month\")\n",
    "g.map_dataframe(sns.histplot, x=\"Month\")\n",
    "g.set_axis_labels(\"\", \"Frequency\")\n",
    "g.set_titles(col_template=\"{col_name} District\", row_template=\"{row_name}\")\n",
    "g.fig.suptitle(\"DayAlert of Fire By District\")\n",
    "\n",
    "g.tight_layout();"
   ]
  },
  {
   "cell_type": "code",
   "execution_count": null,
   "metadata": {},
   "outputs": [],
   "source": [
    "g = sns.FacetGrid(filtered, col=\"District\", height= 12, hue=\"DayOfYear\")\n",
    "g.map_dataframe(sns.histplot, x=\"DayOfYear\")\n",
    "g.set_axis_labels(\"\", \"Frequency\")\n",
    "g.set_titles(col_template=\"{col_name} District\", row_template=\"{row_name}\")\n",
    "g.fig.suptitle(\"DayOfYear of Fire By District\")\n",
    "g.set(xticks=np.arange(0,366,90))\n",
    "g.set_xticklabels(np.arange(0,366,90))\n",
    "g.tight_layout();"
   ]
  },
  {
   "cell_type": "code",
   "execution_count": null,
   "metadata": {},
   "outputs": [],
   "source": [
    "burnArea = filtered.groupby('District')['AreaTotal'].agg('sum')\n",
    "\n",
    "burnArea"
   ]
  },
  {
   "cell_type": "code",
   "execution_count": null,
   "metadata": {},
   "outputs": [],
   "source": [
    "burnAreaType = filtered.query('AreaTotal > 0').groupby(['District','Type'])['AreaTotal'].sum().reset_index(name='totalArea')\n",
    "burnAreaType"
   ]
  },
  {
   "cell_type": "code",
   "execution_count": null,
   "metadata": {},
   "outputs": [],
   "source": [
    "burnArea = filtered.query('AreaTotal > 0').groupby('District')['AreaTotal'].sum().reset_index(name='totalArea')\n",
    "\n",
    "sns.barplot(x=\"District\", y='totalArea', data=burnArea);"
   ]
  },
  {
   "cell_type": "code",
   "execution_count": null,
   "metadata": {},
   "outputs": [],
   "source": [
    "filtered.query('AreaTotal > 0')"
   ]
  },
  {
   "cell_type": "code",
   "execution_count": null,
   "metadata": {},
   "outputs": [],
   "source": [
    "filtered.head()"
   ]
  },
  {
   "cell_type": "code",
   "execution_count": null,
   "metadata": {},
   "outputs": [],
   "source": [
    "stats = filtered.query('AreaTotal > 0')\n",
    "stats.head()"
   ]
  },
  {
   "cell_type": "code",
   "execution_count": null,
   "metadata": {},
   "outputs": [],
   "source": [
    "filtered.groupby(['District','Type'])['AreaTotal'].sum()"
   ]
  },
  {
   "cell_type": "code",
   "execution_count": null,
   "metadata": {},
   "outputs": [],
   "source": [
    "# group by stats for burned area group by distrito\n",
    "filtered.query('AreaTotal > 0').groupby(by=\"District\")['District'].size().describe()"
   ]
  },
  {
   "cell_type": "code",
   "execution_count": null,
   "metadata": {},
   "outputs": [],
   "source": [
    "filtered.query('AreaTotal > 0').groupby('District')['Type'].size()"
   ]
  },
  {
   "cell_type": "code",
   "execution_count": null,
   "metadata": {},
   "outputs": [],
   "source": [
    "aux = filtered.query('AreaTotal > 0').sort_values(by='HourTotal', ascending=False)\n",
    "\n",
    "aux.Type.unique()"
   ]
  },
  {
   "cell_type": "code",
   "execution_count": null,
   "metadata": {},
   "outputs": [],
   "source": [
    "# Relation between total burnt area and Fire Duration\n",
    "sns.scatterplot(data=aux, x='AreaTotal', y='HourTotal', hue='District')\n",
    "# set labels\n",
    "plt.xlabel(\"Area Burned (ha)\", size=15)\n",
    "plt.ylabel(\"Wildfire Duration\", size=15)\n",
    "plt.title(\"Sort Bars in Barplot in Descending Order\", size=18)\n",
    "plt.tight_layout()"
   ]
  },
  {
   "cell_type": "code",
   "execution_count": null,
   "metadata": {},
   "outputs": [],
   "source": [
    "aux.head()"
   ]
  },
  {
   "cell_type": "code",
   "execution_count": null,
   "metadata": {},
   "outputs": [],
   "source": [
    "aux[aux.HourTotal.isna()]"
   ]
  },
  {
   "cell_type": "code",
   "execution_count": null,
   "metadata": {},
   "outputs": [],
   "source": [
    "aux[aux.HourTotal < 1]\n"
   ]
  },
  {
   "cell_type": "markdown",
   "metadata": {},
   "source": []
  }
 ],
 "metadata": {
  "kernelspec": {
   "display_name": "Python 3.9.7 ('base')",
   "language": "python",
   "name": "python3"
  },
  "language_info": {
   "codemirror_mode": {
    "name": "ipython",
    "version": 3
   },
   "file_extension": ".py",
   "mimetype": "text/x-python",
   "name": "python",
   "nbconvert_exporter": "python",
   "pygments_lexer": "ipython3",
   "version": "3.9.7"
  },
  "orig_nbformat": 4,
  "vscode": {
   "interpreter": {
    "hash": "3cdc2136a0c3ff6ee581d9355ebf305035e9e0ffdb59b37da8e4674310bf0233"
   }
  }
 },
 "nbformat": 4,
 "nbformat_minor": 2
}
