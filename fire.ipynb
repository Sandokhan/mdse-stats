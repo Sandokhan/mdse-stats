{
 "cells": [
  {
   "cell_type": "code",
   "execution_count": 1,
   "metadata": {},
   "outputs": [],
   "source": [
    "#Import Libraries\n",
    "\n",
    "# data manipulation\n",
    "import pandas as pd\n",
    "import numpy as np\n",
    "from datetime import timezone, timedelta, time, datetime\n",
    "\n",
    "\n",
    "# data viz\n",
    "import matplotlib.pyplot as plt\n",
    "from matplotlib import rcParams\n",
    "import seaborn as sns\n",
    "\n",
    "# apply some cool styling\n",
    "plt.style.use(\"seaborn-darkgrid\")\n",
    "rcParams['figure.figsize'] = (12,  6)"
   ]
  },
  {
   "cell_type": "markdown",
   "metadata": {},
   "source": [
    "# Colocar aqui informacoes sobre o projeto\n",
    "\n",
    "- Variaveis utilizadas\n",
    "- bla bla bla\n",
    "- bla bla bla"
   ]
  },
  {
   "cell_type": "code",
   "execution_count": 2,
   "metadata": {},
   "outputs": [],
   "source": [
    "# Districts\n",
    "# Center   = ['Castelo Branco', 'Viseu', 'Guarda', 'Aveiro', 'Coimbra', 'Leiria']\n",
    "# Algarve  = ['Faro']\n",
    "# Alentejo = ['Évora', 'Beja', 'Portalegre', 'Santarém']\n",
    "# Lisbon   = ['Lisboa', 'Setúbal']\n",
    "Northen  = ['Viana Do Castelo', 'Porto', 'Braga', 'Vila Real', 'Bragança']\n"
   ]
  },
  {
   "cell_type": "code",
   "execution_count": 3,
   "metadata": {},
   "outputs": [
    {
     "data": {
      "text/html": [
       "<div>\n",
       "<style scoped>\n",
       "    .dataframe tbody tr th:only-of-type {\n",
       "        vertical-align: middle;\n",
       "    }\n",
       "\n",
       "    .dataframe tbody tr th {\n",
       "        vertical-align: top;\n",
       "    }\n",
       "\n",
       "    .dataframe thead th {\n",
       "        text-align: right;\n",
       "    }\n",
       "</style>\n",
       "<table border=\"1\" class=\"dataframe\">\n",
       "  <thead>\n",
       "    <tr style=\"text-align: right;\">\n",
       "      <th></th>\n",
       "      <th>Ano</th>\n",
       "      <th>Codigo SGIF</th>\n",
       "      <th>Codigo_ANPC</th>\n",
       "      <th>Tipo</th>\n",
       "      <th>Distrito</th>\n",
       "      <th>Concelho</th>\n",
       "      <th>Freguesia</th>\n",
       "      <th>Local</th>\n",
       "      <th>INE</th>\n",
       "      <th>x</th>\n",
       "      <th>...</th>\n",
       "      <th>Falso Alarme</th>\n",
       "      <th>Fogacho</th>\n",
       "      <th>Incendio</th>\n",
       "      <th>Agricola</th>\n",
       "      <th>Perimetro</th>\n",
       "      <th>APS</th>\n",
       "      <th>Causa</th>\n",
       "      <th>TipoCausa</th>\n",
       "      <th>Região PROF</th>\n",
       "      <th>UGF</th>\n",
       "    </tr>\n",
       "  </thead>\n",
       "  <tbody>\n",
       "    <tr>\n",
       "      <th>0</th>\n",
       "      <td>2015</td>\n",
       "      <td>DM315252</td>\n",
       "      <td>2015160007544</td>\n",
       "      <td>Florestal</td>\n",
       "      <td>Viana do Castelo</td>\n",
       "      <td>Ponte de Lima</td>\n",
       "      <td>Serdedelo</td>\n",
       "      <td>VALE DE TROVELA (SERDEDELO)</td>\n",
       "      <td>160746</td>\n",
       "      <td>167814</td>\n",
       "      <td>...</td>\n",
       "      <td>0</td>\n",
       "      <td>0</td>\n",
       "      <td>1</td>\n",
       "      <td>0</td>\n",
       "      <td>NaN</td>\n",
       "      <td>NaN</td>\n",
       "      <td>122.0</td>\n",
       "      <td>Negligente</td>\n",
       "      <td>Entre Douro e Minho</td>\n",
       "      <td>Alto Minho</td>\n",
       "    </tr>\n",
       "    <tr>\n",
       "      <th>1</th>\n",
       "      <td>2015</td>\n",
       "      <td>DM215305</td>\n",
       "      <td>2015130043758</td>\n",
       "      <td>Florestal</td>\n",
       "      <td>Porto</td>\n",
       "      <td>Marco de Canaveses</td>\n",
       "      <td>Vila Boa de Quires</td>\n",
       "      <td>LUGAR DO FOFO</td>\n",
       "      <td>130731</td>\n",
       "      <td>193731</td>\n",
       "      <td>...</td>\n",
       "      <td>0</td>\n",
       "      <td>0</td>\n",
       "      <td>1</td>\n",
       "      <td>0</td>\n",
       "      <td>NaN</td>\n",
       "      <td>NaN</td>\n",
       "      <td>122.0</td>\n",
       "      <td>Negligente</td>\n",
       "      <td>Entre Douro e Minho</td>\n",
       "      <td>Tâmega</td>\n",
       "    </tr>\n",
       "    <tr>\n",
       "      <th>2</th>\n",
       "      <td>2015</td>\n",
       "      <td>DM415293</td>\n",
       "      <td>2015030021973</td>\n",
       "      <td>Florestal</td>\n",
       "      <td>Braga</td>\n",
       "      <td>Vila Verde</td>\n",
       "      <td>Lage</td>\n",
       "      <td>RUA PROF ABEL MADEIRA</td>\n",
       "      <td>31323</td>\n",
       "      <td>172162</td>\n",
       "      <td>...</td>\n",
       "      <td>0</td>\n",
       "      <td>1</td>\n",
       "      <td>0</td>\n",
       "      <td>0</td>\n",
       "      <td>NaN</td>\n",
       "      <td>NaN</td>\n",
       "      <td>60.0</td>\n",
       "      <td>Desconhecida</td>\n",
       "      <td>Entre Douro e Minho</td>\n",
       "      <td>Baixo Minho</td>\n",
       "    </tr>\n",
       "    <tr>\n",
       "      <th>3</th>\n",
       "      <td>2015</td>\n",
       "      <td>DM315261</td>\n",
       "      <td>2015160007563</td>\n",
       "      <td>Falso Alarme</td>\n",
       "      <td>Viana do Castelo</td>\n",
       "      <td>Ponte de Lima</td>\n",
       "      <td>Boalhosa</td>\n",
       "      <td>J. DEPOSITOS DE AGUA (BOALHOSA)</td>\n",
       "      <td>160709</td>\n",
       "      <td>171291</td>\n",
       "      <td>...</td>\n",
       "      <td>1</td>\n",
       "      <td>0</td>\n",
       "      <td>0</td>\n",
       "      <td>0</td>\n",
       "      <td>NaN</td>\n",
       "      <td>NaN</td>\n",
       "      <td>630.0</td>\n",
       "      <td>Desconhecida</td>\n",
       "      <td>Entre Douro e Minho</td>\n",
       "      <td>Alto Minho</td>\n",
       "    </tr>\n",
       "    <tr>\n",
       "      <th>4</th>\n",
       "      <td>2015</td>\n",
       "      <td>BL115321</td>\n",
       "      <td>2015180015874</td>\n",
       "      <td>Agrícola</td>\n",
       "      <td>Viseu</td>\n",
       "      <td>Castro Daire</td>\n",
       "      <td>Castro Daire</td>\n",
       "      <td>Farejinhas - Bº das Queirós</td>\n",
       "      <td>180304</td>\n",
       "      <td>217299</td>\n",
       "      <td>...</td>\n",
       "      <td>0</td>\n",
       "      <td>1</td>\n",
       "      <td>0</td>\n",
       "      <td>0</td>\n",
       "      <td>NaN</td>\n",
       "      <td>NaN</td>\n",
       "      <td>630.0</td>\n",
       "      <td>Desconhecida</td>\n",
       "      <td>Beira Litoral</td>\n",
       "      <td>Dão Lafões</td>\n",
       "    </tr>\n",
       "  </tbody>\n",
       "</table>\n",
       "<p>5 rows × 38 columns</p>\n",
       "</div>"
      ],
      "text/plain": [
       "    Ano Codigo SGIF    Codigo_ANPC          Tipo          Distrito  \\\n",
       "0  2015    DM315252  2015160007544     Florestal  Viana do Castelo   \n",
       "1  2015    DM215305  2015130043758     Florestal             Porto   \n",
       "2  2015    DM415293  2015030021973     Florestal             Braga   \n",
       "3  2015    DM315261  2015160007563  Falso Alarme  Viana do Castelo   \n",
       "4  2015    BL115321  2015180015874      Agrícola             Viseu   \n",
       "\n",
       "             Concelho           Freguesia                            Local  \\\n",
       "0       Ponte de Lima           Serdedelo      VALE DE TROVELA (SERDEDELO)   \n",
       "1  Marco de Canaveses  Vila Boa de Quires                    LUGAR DO FOFO   \n",
       "2          Vila Verde                Lage            RUA PROF ABEL MADEIRA   \n",
       "3       Ponte de Lima            Boalhosa  J. DEPOSITOS DE AGUA (BOALHOSA)   \n",
       "4        Castro Daire        Castro Daire      Farejinhas - Bº das Queirós   \n",
       "\n",
       "      INE       x  ...  Falso Alarme Fogacho Incendio Agricola Perimetro  APS  \\\n",
       "0  160746  167814  ...             0       0        1        0       NaN  NaN   \n",
       "1  130731  193731  ...             0       0        1        0       NaN  NaN   \n",
       "2   31323  172162  ...             0       1        0        0       NaN  NaN   \n",
       "3  160709  171291  ...             1       0        0        0       NaN  NaN   \n",
       "4  180304  217299  ...             0       1        0        0       NaN  NaN   \n",
       "\n",
       "   Causa     TipoCausa          Região PROF          UGF  \n",
       "0  122.0    Negligente  Entre Douro e Minho   Alto Minho  \n",
       "1  122.0    Negligente  Entre Douro e Minho       Tâmega  \n",
       "2   60.0  Desconhecida  Entre Douro e Minho  Baixo Minho  \n",
       "3  630.0  Desconhecida  Entre Douro e Minho   Alto Minho  \n",
       "4  630.0  Desconhecida        Beira Litoral   Dão Lafões  \n",
       "\n",
       "[5 rows x 38 columns]"
      ]
     },
     "execution_count": 3,
     "metadata": {},
     "output_type": "execute_result"
    }
   ],
   "source": [
    "# Load and Read dataset\n",
    "df = pd.read_excel('datasets/wildfire.xlsx')\n",
    "\n",
    "#Checking dataset head\n",
    "df.head()"
   ]
  },
  {
   "cell_type": "code",
   "execution_count": 4,
   "metadata": {},
   "outputs": [
    {
     "data": {
      "text/plain": [
       "Index(['Ano', 'Codigo SGIF', 'Codigo_ANPC', 'Tipo', 'Distrito', 'Concelho',\n",
       "       'Freguesia', 'Local', 'INE', 'x', 'y', 'lat', 'lon', 'DataAlerta',\n",
       "       'HoraAlerta', 'DataExtincao', 'HoraExtincao', 'Data1Intervencao',\n",
       "       'Hora1Intervencao', 'FonteAlerta', 'NUT', 'AA_Povoamento (ha)',\n",
       "       'AA_Mato (ha)', 'AA_Agricola (ha)',\n",
       "       'AA_EspacosFlorestais (pov+mato)(ha)', 'AA_Total (pov+mato+agric) (ha)',\n",
       "       'Reacendimentos', 'Queimada', 'Falso Alarme', 'Fogacho', 'Incendio',\n",
       "       'Agricola', 'Perimetro', 'APS', 'Causa', 'TipoCausa', 'Região PROF',\n",
       "       'UGF'],\n",
       "      dtype='object')"
      ]
     },
     "execution_count": 4,
     "metadata": {},
     "output_type": "execute_result"
    }
   ],
   "source": [
    "# Inspecting dataset colunms name\n",
    "df.columns"
   ]
  },
  {
   "cell_type": "code",
   "execution_count": 11,
   "metadata": {},
   "outputs": [],
   "source": [
    "# Converting to datetime\n",
    "df[['DataAlerta', 'DataExtincao','Data1Intervencao']] = df[['DataAlerta', 'DataExtincao','Data1Intervencao']].apply(pd.to_datetime, errors='coerce')\n",
    "df[['HoraAlerta', 'HoraExtincao','Hora1Intervencao']] = df[['HoraAlerta', 'HoraExtincao','Hora1Intervencao']].apply(pd.to_datetime, format='%H:%M:%S')"
   ]
  },
  {
   "cell_type": "code",
   "execution_count": 21,
   "metadata": {},
   "outputs": [
    {
     "data": {
      "text/html": [
       "<div>\n",
       "<style scoped>\n",
       "    .dataframe tbody tr th:only-of-type {\n",
       "        vertical-align: middle;\n",
       "    }\n",
       "\n",
       "    .dataframe tbody tr th {\n",
       "        vertical-align: top;\n",
       "    }\n",
       "\n",
       "    .dataframe thead th {\n",
       "        text-align: right;\n",
       "    }\n",
       "</style>\n",
       "<table border=\"1\" class=\"dataframe\">\n",
       "  <thead>\n",
       "    <tr style=\"text-align: right;\">\n",
       "      <th></th>\n",
       "      <th>Ano</th>\n",
       "      <th>Codigo SGIF</th>\n",
       "      <th>Codigo_ANPC</th>\n",
       "      <th>Tipo</th>\n",
       "      <th>Distrito</th>\n",
       "      <th>Concelho</th>\n",
       "      <th>Freguesia</th>\n",
       "      <th>Local</th>\n",
       "      <th>INE</th>\n",
       "      <th>x</th>\n",
       "      <th>...</th>\n",
       "      <th>Falso Alarme</th>\n",
       "      <th>Fogacho</th>\n",
       "      <th>Incendio</th>\n",
       "      <th>Agricola</th>\n",
       "      <th>Perimetro</th>\n",
       "      <th>APS</th>\n",
       "      <th>Causa</th>\n",
       "      <th>TipoCausa</th>\n",
       "      <th>Região PROF</th>\n",
       "      <th>UGF</th>\n",
       "    </tr>\n",
       "  </thead>\n",
       "  <tbody>\n",
       "    <tr>\n",
       "      <th>1</th>\n",
       "      <td>2015</td>\n",
       "      <td>DM215305</td>\n",
       "      <td>2015130043758</td>\n",
       "      <td>Florestal</td>\n",
       "      <td>Porto</td>\n",
       "      <td>Marco de Canaveses</td>\n",
       "      <td>Vila Boa de Quires</td>\n",
       "      <td>LUGAR DO FOFO</td>\n",
       "      <td>130731</td>\n",
       "      <td>193731</td>\n",
       "      <td>...</td>\n",
       "      <td>0</td>\n",
       "      <td>0</td>\n",
       "      <td>1</td>\n",
       "      <td>0</td>\n",
       "      <td>NaN</td>\n",
       "      <td>NaN</td>\n",
       "      <td>122.0</td>\n",
       "      <td>Negligente</td>\n",
       "      <td>Entre Douro e Minho</td>\n",
       "      <td>Tâmega</td>\n",
       "    </tr>\n",
       "    <tr>\n",
       "      <th>2</th>\n",
       "      <td>2015</td>\n",
       "      <td>DM415293</td>\n",
       "      <td>2015030021973</td>\n",
       "      <td>Florestal</td>\n",
       "      <td>Braga</td>\n",
       "      <td>Vila Verde</td>\n",
       "      <td>Lage</td>\n",
       "      <td>RUA PROF ABEL MADEIRA</td>\n",
       "      <td>31323</td>\n",
       "      <td>172162</td>\n",
       "      <td>...</td>\n",
       "      <td>0</td>\n",
       "      <td>1</td>\n",
       "      <td>0</td>\n",
       "      <td>0</td>\n",
       "      <td>NaN</td>\n",
       "      <td>NaN</td>\n",
       "      <td>60.0</td>\n",
       "      <td>Desconhecida</td>\n",
       "      <td>Entre Douro e Minho</td>\n",
       "      <td>Baixo Minho</td>\n",
       "    </tr>\n",
       "    <tr>\n",
       "      <th>5</th>\n",
       "      <td>2015</td>\n",
       "      <td>DM415289</td>\n",
       "      <td>2015030021952</td>\n",
       "      <td>Florestal</td>\n",
       "      <td>Braga</td>\n",
       "      <td>Barcelos</td>\n",
       "      <td>Perelhal</td>\n",
       "      <td>ERMIDA</td>\n",
       "      <td>30260</td>\n",
       "      <td>152733</td>\n",
       "      <td>...</td>\n",
       "      <td>0</td>\n",
       "      <td>0</td>\n",
       "      <td>1</td>\n",
       "      <td>0</td>\n",
       "      <td>NaN</td>\n",
       "      <td>NaN</td>\n",
       "      <td>711.0</td>\n",
       "      <td>Reacendimento</td>\n",
       "      <td>Entre Douro e Minho</td>\n",
       "      <td>Baixo Minho</td>\n",
       "    </tr>\n",
       "    <tr>\n",
       "      <th>6</th>\n",
       "      <td>2015</td>\n",
       "      <td>TM115382</td>\n",
       "      <td>2015170006397</td>\n",
       "      <td>Florestal</td>\n",
       "      <td>Vila Real</td>\n",
       "      <td>Boticas</td>\n",
       "      <td>Cerdedo</td>\n",
       "      <td>Vale Chã (CM1032 23, 5470, Portugal)</td>\n",
       "      <td>170206</td>\n",
       "      <td>218315</td>\n",
       "      <td>...</td>\n",
       "      <td>0</td>\n",
       "      <td>0</td>\n",
       "      <td>1</td>\n",
       "      <td>0</td>\n",
       "      <td>NaN</td>\n",
       "      <td>NaN</td>\n",
       "      <td>125.0</td>\n",
       "      <td>Negligente</td>\n",
       "      <td>Trás-os-Montes</td>\n",
       "      <td>Barroso e Padrela</td>\n",
       "    </tr>\n",
       "    <tr>\n",
       "      <th>8</th>\n",
       "      <td>2015</td>\n",
       "      <td>DM215334</td>\n",
       "      <td>2015130044169</td>\n",
       "      <td>Florestal</td>\n",
       "      <td>Porto</td>\n",
       "      <td>Matosinhos</td>\n",
       "      <td>Santa Cruz do Bispo</td>\n",
       "      <td>MONTE DA MINA</td>\n",
       "      <td>130808</td>\n",
       "      <td>154833</td>\n",
       "      <td>...</td>\n",
       "      <td>0</td>\n",
       "      <td>1</td>\n",
       "      <td>0</td>\n",
       "      <td>0</td>\n",
       "      <td>NaN</td>\n",
       "      <td>NaN</td>\n",
       "      <td>NaN</td>\n",
       "      <td>NaN</td>\n",
       "      <td>Entre Douro e Minho</td>\n",
       "      <td>AMP e Entre Douro e Vouga</td>\n",
       "    </tr>\n",
       "  </tbody>\n",
       "</table>\n",
       "<p>5 rows × 38 columns</p>\n",
       "</div>"
      ],
      "text/plain": [
       "    Ano Codigo SGIF    Codigo_ANPC       Tipo   Distrito            Concelho  \\\n",
       "1  2015    DM215305  2015130043758  Florestal      Porto  Marco de Canaveses   \n",
       "2  2015    DM415293  2015030021973  Florestal      Braga          Vila Verde   \n",
       "5  2015    DM415289  2015030021952  Florestal      Braga            Barcelos   \n",
       "6  2015    TM115382  2015170006397  Florestal  Vila Real             Boticas   \n",
       "8  2015    DM215334  2015130044169  Florestal      Porto          Matosinhos   \n",
       "\n",
       "             Freguesia                                 Local     INE       x  \\\n",
       "1   Vila Boa de Quires                         LUGAR DO FOFO  130731  193731   \n",
       "2                 Lage                 RUA PROF ABEL MADEIRA   31323  172162   \n",
       "5             Perelhal                                ERMIDA   30260  152733   \n",
       "6              Cerdedo  Vale Chã (CM1032 23, 5470, Portugal)  170206  218315   \n",
       "8  Santa Cruz do Bispo                         MONTE DA MINA  130808  154833   \n",
       "\n",
       "   ...  Falso Alarme Fogacho Incendio Agricola Perimetro  APS  Causa  \\\n",
       "1  ...             0       0        1        0       NaN  NaN  122.0   \n",
       "2  ...             0       1        0        0       NaN  NaN   60.0   \n",
       "5  ...             0       0        1        0       NaN  NaN  711.0   \n",
       "6  ...             0       0        1        0       NaN  NaN  125.0   \n",
       "8  ...             0       1        0        0       NaN  NaN    NaN   \n",
       "\n",
       "       TipoCausa          Região PROF                        UGF  \n",
       "1     Negligente  Entre Douro e Minho                     Tâmega  \n",
       "2   Desconhecida  Entre Douro e Minho                Baixo Minho  \n",
       "5  Reacendimento  Entre Douro e Minho                Baixo Minho  \n",
       "6     Negligente       Trás-os-Montes          Barroso e Padrela  \n",
       "8            NaN  Entre Douro e Minho  AMP e Entre Douro e Vouga  \n",
       "\n",
       "[5 rows x 38 columns]"
      ]
     },
     "execution_count": 21,
     "metadata": {},
     "output_type": "execute_result"
    }
   ],
   "source": [
    "df_stg = df.query('Distrito in @Northen')\n",
    "df_stg.head()"
   ]
  },
  {
   "cell_type": "code",
   "execution_count": 37,
   "metadata": {},
   "outputs": [
    {
     "data": {
      "text/html": [
       "<div>\n",
       "<style scoped>\n",
       "    .dataframe tbody tr th:only-of-type {\n",
       "        vertical-align: middle;\n",
       "    }\n",
       "\n",
       "    .dataframe tbody tr th {\n",
       "        vertical-align: top;\n",
       "    }\n",
       "\n",
       "    .dataframe thead th {\n",
       "        text-align: right;\n",
       "    }\n",
       "</style>\n",
       "<table border=\"1\" class=\"dataframe\">\n",
       "  <thead>\n",
       "    <tr style=\"text-align: right;\">\n",
       "      <th></th>\n",
       "      <th>District</th>\n",
       "      <th>Type</th>\n",
       "      <th>TypeCause</th>\n",
       "      <th>DateAlert</th>\n",
       "      <th>DateExtinction</th>\n",
       "      <th>HourAlert</th>\n",
       "      <th>HourExtinction</th>\n",
       "      <th>AreaTotal</th>\n",
       "    </tr>\n",
       "  </thead>\n",
       "  <tbody>\n",
       "    <tr>\n",
       "      <th>1</th>\n",
       "      <td>Porto</td>\n",
       "      <td>Florestal</td>\n",
       "      <td>Negligente</td>\n",
       "      <td>2015-03-24</td>\n",
       "      <td>2015-03-24</td>\n",
       "      <td>1900-01-01 17:10:00</td>\n",
       "      <td>1900-01-01 18:47:00</td>\n",
       "      <td>1.35</td>\n",
       "    </tr>\n",
       "    <tr>\n",
       "      <th>2</th>\n",
       "      <td>Braga</td>\n",
       "      <td>Florestal</td>\n",
       "      <td>Desconhecida</td>\n",
       "      <td>2015-03-24</td>\n",
       "      <td>2015-03-24</td>\n",
       "      <td>1900-01-01 19:15:00</td>\n",
       "      <td>1900-01-01 20:00:00</td>\n",
       "      <td>0.26</td>\n",
       "    </tr>\n",
       "    <tr>\n",
       "      <th>5</th>\n",
       "      <td>Braga</td>\n",
       "      <td>Florestal</td>\n",
       "      <td>Reacendimento</td>\n",
       "      <td>2015-03-24</td>\n",
       "      <td>2015-03-25</td>\n",
       "      <td>1900-01-01 18:03:00</td>\n",
       "      <td>1900-01-01 01:50:00</td>\n",
       "      <td>1.50</td>\n",
       "    </tr>\n",
       "    <tr>\n",
       "      <th>6</th>\n",
       "      <td>Vila Real</td>\n",
       "      <td>Florestal</td>\n",
       "      <td>Negligente</td>\n",
       "      <td>2015-03-24</td>\n",
       "      <td>2015-03-25</td>\n",
       "      <td>1900-01-01 21:40:00</td>\n",
       "      <td>1900-01-01 05:45:00</td>\n",
       "      <td>38.50</td>\n",
       "    </tr>\n",
       "    <tr>\n",
       "      <th>8</th>\n",
       "      <td>Porto</td>\n",
       "      <td>Florestal</td>\n",
       "      <td>NaN</td>\n",
       "      <td>2015-03-25</td>\n",
       "      <td>2015-03-25</td>\n",
       "      <td>1900-01-01 15:30:00</td>\n",
       "      <td>1900-01-01 18:25:00</td>\n",
       "      <td>0.05</td>\n",
       "    </tr>\n",
       "  </tbody>\n",
       "</table>\n",
       "</div>"
      ],
      "text/plain": [
       "    District       Type      TypeCause  DateAlert DateExtinction  \\\n",
       "1      Porto  Florestal     Negligente 2015-03-24     2015-03-24   \n",
       "2      Braga  Florestal   Desconhecida 2015-03-24     2015-03-24   \n",
       "5      Braga  Florestal  Reacendimento 2015-03-24     2015-03-25   \n",
       "6  Vila Real  Florestal     Negligente 2015-03-24     2015-03-25   \n",
       "8      Porto  Florestal            NaN 2015-03-25     2015-03-25   \n",
       "\n",
       "            HourAlert      HourExtinction  AreaTotal  \n",
       "1 1900-01-01 17:10:00 1900-01-01 18:47:00       1.35  \n",
       "2 1900-01-01 19:15:00 1900-01-01 20:00:00       0.26  \n",
       "5 1900-01-01 18:03:00 1900-01-01 01:50:00       1.50  \n",
       "6 1900-01-01 21:40:00 1900-01-01 05:45:00      38.50  \n",
       "8 1900-01-01 15:30:00 1900-01-01 18:25:00       0.05  "
      ]
     },
     "execution_count": 37,
     "metadata": {},
     "output_type": "execute_result"
    }
   ],
   "source": [
    "columns = ['Distrito','Tipo', 'TipoCausa', 'DataAlerta','DataExtincao','HoraAlerta','HoraExtincao','AA_Total (pov+mato+agric) (ha)']\n",
    "names =   ['District','Type', 'TypeCause', 'DateAlert', 'DateExtinction', 'HourAlert', 'HourExtinction', 'AreaTotal']\n",
    "north = df_stg[columns].copy(deep=True)\n",
    "north.columns = names\n",
    "north.head()"
   ]
  },
  {
   "cell_type": "code",
   "execution_count": 33,
   "metadata": {},
   "outputs": [
    {
     "data": {
      "text/plain": [
       "0.38683926645091693"
      ]
     },
     "execution_count": 33,
     "metadata": {},
     "output_type": "execute_result"
    }
   ],
   "source": [
    "# Quanto representa o norte\n",
    "df_stg.shape[0]/df.shape[0]"
   ]
  },
  {
   "cell_type": "code",
   "execution_count": 34,
   "metadata": {},
   "outputs": [
    {
     "data": {
      "text/plain": [
       "Porto               0.495706\n",
       "Braga               0.248857\n",
       "Vila Real           0.165198\n",
       "Bragança            0.081762\n",
       "Viana Do Castelo    0.008477\n",
       "Name: Distrito, dtype: float64"
      ]
     },
     "execution_count": 34,
     "metadata": {},
     "output_type": "execute_result"
    }
   ],
   "source": [
    "df_stg.Distrito.value_counts(normalize=True)"
   ]
  },
  {
   "cell_type": "code",
   "execution_count": 39,
   "metadata": {},
   "outputs": [
    {
     "data": {
      "text/html": [
       "<div>\n",
       "<style scoped>\n",
       "    .dataframe tbody tr th:only-of-type {\n",
       "        vertical-align: middle;\n",
       "    }\n",
       "\n",
       "    .dataframe tbody tr th {\n",
       "        vertical-align: top;\n",
       "    }\n",
       "\n",
       "    .dataframe thead th {\n",
       "        text-align: right;\n",
       "    }\n",
       "</style>\n",
       "<table border=\"1\" class=\"dataframe\">\n",
       "  <thead>\n",
       "    <tr style=\"text-align: right;\">\n",
       "      <th></th>\n",
       "      <th>District</th>\n",
       "      <th>Type</th>\n",
       "      <th>TypeCause</th>\n",
       "      <th>DateAlert</th>\n",
       "      <th>DateExtinction</th>\n",
       "      <th>HourAlert</th>\n",
       "      <th>HourExtinction</th>\n",
       "      <th>AreaTotal</th>\n",
       "      <th>FireAmountTime</th>\n",
       "      <th>DayAlert</th>\n",
       "      <th>DayExtinction</th>\n",
       "      <th>Month</th>\n",
       "    </tr>\n",
       "  </thead>\n",
       "  <tbody>\n",
       "  </tbody>\n",
       "</table>\n",
       "</div>"
      ],
      "text/plain": [
       "Empty DataFrame\n",
       "Columns: [District, Type, TypeCause, DateAlert, DateExtinction, HourAlert, HourExtinction, AreaTotal, FireAmountTime, DayAlert, DayExtinction, Month]\n",
       "Index: []"
      ]
     },
     "execution_count": 39,
     "metadata": {},
     "output_type": "execute_result"
    }
   ],
   "source": [
    "north[(north.DateExtinction < north.DateAlert) == True]"
   ]
  },
  {
   "cell_type": "code",
   "execution_count": 38,
   "metadata": {},
   "outputs": [],
   "source": [
    "# Calculating time of fire and getting day of week\n",
    "north['FireAmountTime'] = north.HourExtinction - north.HourAlert\n",
    "north['DayAlert'] = north.DateAlert.dt.day_name()\n",
    "north['DayExtinction'] = north.DateExtinction.dt.day_name()\n",
    "north['Month'] = north.DateExtinction.dt.month_name()"
   ]
  },
  {
   "cell_type": "markdown",
   "metadata": {},
   "source": [
    "### Porto vs Vila Real \n",
    "Porto               49.57%\n",
    "Vila Real           16.51%"
   ]
  },
  {
   "cell_type": "code",
   "execution_count": 40,
   "metadata": {},
   "outputs": [],
   "source": [
    "porto = north[north.District == 'Porto'].copy(deep=True)\n",
    "vila  = north[north.District == 'Vila Real'].copy(deep=True)"
   ]
  },
  {
   "cell_type": "code",
   "execution_count": 41,
   "metadata": {},
   "outputs": [
    {
     "data": {
      "text/plain": [
       "Type\n",
       "Agrícola         215\n",
       "Falso Alarme     449\n",
       "Florestal       3776\n",
       "Queimada           4\n",
       "dtype: int64"
      ]
     },
     "execution_count": 41,
     "metadata": {},
     "output_type": "execute_result"
    }
   ],
   "source": [
    "porto.groupby('Type').size()"
   ]
  },
  {
   "cell_type": "code",
   "execution_count": 42,
   "metadata": {},
   "outputs": [
    {
     "data": {
      "text/plain": [
       "Type\n",
       "Agrícola          33\n",
       "Falso Alarme     152\n",
       "Florestal       1283\n",
       "Queimada          13\n",
       "dtype: int64"
      ]
     },
     "execution_count": 42,
     "metadata": {},
     "output_type": "execute_result"
    }
   ],
   "source": [
    "vila.groupby('Type').size()"
   ]
  },
  {
   "cell_type": "code",
   "execution_count": 43,
   "metadata": {},
   "outputs": [
    {
     "data": {
      "text/plain": [
       "TypeCause\n",
       "Desconhecida     710\n",
       "Intencional      293\n",
       "Negligente       740\n",
       "Reacendimento    505\n",
       "dtype: int64"
      ]
     },
     "execution_count": 43,
     "metadata": {},
     "output_type": "execute_result"
    }
   ],
   "source": [
    "porto.groupby('TypeCause').size()"
   ]
  },
  {
   "cell_type": "code",
   "execution_count": 44,
   "metadata": {},
   "outputs": [
    {
     "data": {
      "text/plain": [
       "TypeCause\n",
       "Desconhecida      39\n",
       "Intencional      319\n",
       "Natural           11\n",
       "Negligente       582\n",
       "Reacendimento     50\n",
       "dtype: int64"
      ]
     },
     "execution_count": 44,
     "metadata": {},
     "output_type": "execute_result"
    }
   ],
   "source": [
    "vila.groupby('TypeCause').size()"
   ]
  },
  {
   "cell_type": "code",
   "execution_count": 45,
   "metadata": {},
   "outputs": [
    {
     "data": {
      "text/plain": [
       "Type\n",
       "Agrícola          18.4495\n",
       "Falso Alarme       0.0000\n",
       "Florestal       2527.3423\n",
       "Queimada           0.0660\n",
       "Name: AreaTotal, dtype: float64"
      ]
     },
     "execution_count": 45,
     "metadata": {},
     "output_type": "execute_result"
    }
   ],
   "source": [
    "porto.groupby('Type')['AreaTotal'].sum()"
   ]
  },
  {
   "cell_type": "code",
   "execution_count": 46,
   "metadata": {},
   "outputs": [
    {
     "data": {
      "text/plain": [
       "Type\n",
       "Agrícola           8.680\n",
       "Falso Alarme       0.000\n",
       "Florestal       5606.333\n",
       "Queimada           3.626\n",
       "Name: AreaTotal, dtype: float64"
      ]
     },
     "execution_count": 46,
     "metadata": {},
     "output_type": "execute_result"
    }
   ],
   "source": [
    "vila.groupby('Type')['AreaTotal'].sum()"
   ]
  },
  {
   "cell_type": "code",
   "execution_count": 47,
   "metadata": {},
   "outputs": [
    {
     "data": {
      "text/plain": [
       "FireAmountTime\n",
       "-1 days +00:25:00    1\n",
       "-1 days +00:27:00    2\n",
       "-1 days +00:28:00    1\n",
       "-1 days +00:31:00    1\n",
       "-1 days +00:32:00    1\n",
       "                    ..\n",
       "0 days 09:17:00      1\n",
       "0 days 09:35:00      1\n",
       "0 days 09:38:00      1\n",
       "0 days 11:04:00      1\n",
       "0 days 15:20:00      1\n",
       "Length: 509, dtype: int64"
      ]
     },
     "execution_count": 47,
     "metadata": {},
     "output_type": "execute_result"
    }
   ],
   "source": [
    "porto.groupby('FireAmountTime').size() # Criar intevalo"
   ]
  },
  {
   "cell_type": "code",
   "execution_count": null,
   "metadata": {},
   "outputs": [],
   "source": []
  }
 ],
 "metadata": {
  "kernelspec": {
   "display_name": "Python 3.9.7 ('base')",
   "language": "python",
   "name": "python3"
  },
  "language_info": {
   "codemirror_mode": {
    "name": "ipython",
    "version": 3
   },
   "file_extension": ".py",
   "mimetype": "text/x-python",
   "name": "python",
   "nbconvert_exporter": "python",
   "pygments_lexer": "ipython3",
   "version": "3.9.7"
  },
  "orig_nbformat": 4,
  "vscode": {
   "interpreter": {
    "hash": "3cdc2136a0c3ff6ee581d9355ebf305035e9e0ffdb59b37da8e4674310bf0233"
   }
  }
 },
 "nbformat": 4,
 "nbformat_minor": 2
}
